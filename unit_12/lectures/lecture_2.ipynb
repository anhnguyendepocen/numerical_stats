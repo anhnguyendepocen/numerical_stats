{
 "cells": [
  {
   "cell_type": "markdown",
   "metadata": {
    "slideshow": {
     "slide_type": "slide"
    }
   },
   "source": [
    "Nonlinear Least Squares\n",
    "====\n",
    "\n",
    "## Unit 12, Lecture 2\n",
    "\n",
    "*Numerical Methods and Statistics*\n",
    "\n",
    "----\n",
    "\n",
    "#### Prof. Andrew White, April 17 2018"
   ]
  },
  {
   "cell_type": "markdown",
   "metadata": {},
   "source": [
    "Goals:\n",
    "---\n",
    "\n",
    "1. Be able to apply the same analysis from 1D/ND OLS to NLS\n",
    "2. Compute the F-matrix and understand its use in error analysis\n",
    "3. Distinguish between when linearized OLS is possible and NLS is required"
   ]
  },
  {
   "cell_type": "code",
   "execution_count": 1,
   "metadata": {
    "slideshow": {
     "slide_type": "skip"
    }
   },
   "outputs": [],
   "source": [
    "%matplotlib inline\n",
    "import random\n",
    "import numpy as np\n",
    "import matplotlib.pyplot as plt\n",
    "import scipy.stats\n",
    "import scipy.linalg as linalg\n",
    "import matplotlib"
   ]
  },
  {
   "cell_type": "markdown",
   "metadata": {
    "slideshow": {
     "slide_type": "slide"
    }
   },
   "source": [
    "Linearizing An Exponential\n",
    "---\n",
    "\n",
    "We previously learned how to linearize polynomials into OLS-ND. What about a more complex equation, like:\n",
    "\n",
    "$$y = \\beta_0 e^{-\\beta_1 x^2} + \\epsilon $$\n",
    "\n",
    "Well, you could of course just do this:\n",
    "\n",
    "$$\\ln y = \\ln\\beta_0 - \\beta_1 x^2 + \\epsilon $$\n",
    "\n",
    "and then choose our $x$ matrix to be $[1,-x^2]$\n",
    "\n",
    "What is wrong with this?"
   ]
  },
  {
   "cell_type": "markdown",
   "metadata": {
    "slideshow": {
     "slide_type": "subslide"
    }
   },
   "source": [
    "**We changed our assumption of noise!** To do the math I just above, it should have been that our original equation was:\n",
    "$$y = \\beta_0 e^{-\\beta_1 x^2}\\times e^{\\epsilon} $$ so that after taking the log, we ended up with that above. But that equation doesn't our assumption that we have normally distributed 0-centered noise."
   ]
  },
  {
   "cell_type": "markdown",
   "metadata": {
    "slideshow": {
     "slide_type": "slide"
    }
   },
   "source": [
    "Can we neglect our assumption of linear normal noise?\n",
    "==="
   ]
  },
  {
   "cell_type": "code",
   "execution_count": 2,
   "metadata": {
    "slideshow": {
     "slide_type": "subslide"
    }
   },
   "outputs": [
    {
     "data": {
      "image/png": "[encoded data removed]",
      "text/plain": [
       "<Figure size 432x288 with 1 Axes>"
      ]
     },
     "metadata": {
      "needs_background": "light"
     },
     "output_type": "display_data"
    }
   ],
   "source": [
    "#NOT PART OF REGRESSION!\n",
    "#Make up an equation and create data from it\n",
    "x = np.linspace(0, 10, 20)\n",
    "y = 2 * np.exp(-x**2 * 0.1) + scipy.stats.norm.rvs(size=len(x), loc=0, scale=0.2)\n",
    "#END\n",
    "\n",
    "plt.plot(x,y, 'o', label='data')\n",
    "plt.plot(x, 2 * np.exp(-x**2 * 0.1), '-', label='exact solution')\n",
    "plt.legend(loc='upper right')\n",
    "plt.show()"
   ]
  },
  {
   "cell_type": "code",
   "execution_count": 3,
   "metadata": {
    "slideshow": {
     "slide_type": "subslide"
    }
   },
   "outputs": [
    {
     "name": "stdout",
     "output_type": "stream",
     "text": [
      "[-0.39211931  0.07860197]\n",
      "0.6756235005402879 2\n",
      "0.07860197052427415 0.1\n"
     ]
    }
   ],
   "source": [
    "#Now we compute the least squares solution\n",
    "\n",
    "x_mat = np.column_stack( (np.ones(len(x)), -x**2) )\n",
    "\n",
    "#Any negative y-values will not work, since log of a negative number is undefined\n",
    "y_clean = []\n",
    "for yi in y:\n",
    "    if yi < 0:\n",
    "        y_clean.append(0.0000001)\n",
    "    else:\n",
    "        y_clean.append(yi)\n",
    "\n",
    "lin_y = np.log(y_clean)\n",
    "\n",
    "#recall that the *_ means put all the other\n",
    "#return values into the _ variable, which we \n",
    "#don't need\n",
    "lin_beta, *_ = linalg.lstsq(x_mat, lin_y)\n",
    "print(lin_beta)\n",
    "beta_0 = np.exp(lin_beta[0])\n",
    "beta_1 = lin_beta[1]\n",
    "\n",
    "print(beta_0, 2)\n",
    "print(beta_1, 0.1)"
   ]
  },
  {
   "cell_type": "code",
   "execution_count": 4,
   "metadata": {
    "slideshow": {
     "slide_type": "subslide"
    }
   },
   "outputs": [
    {
     "data": {
      "image/png": "[encoded data removed]",
      "text/plain": [
       "<Figure size 432x288 with 1 Axes>"
      ]
     },
     "metadata": {
      "needs_background": "light"
     },
     "output_type": "display_data"
    }
   ],
   "source": [
    "plt.plot(x,y, 'o', label='data')\n",
    "plt.plot(x, 2 * np.exp(-x**2 * 0.1), '-', label='exact solution')\n",
    "plt.plot(x, beta_0 * np.exp(-x**2 * beta_1), '-', label='linearized least squares')\n",
    "plt.legend(loc='upper right')\n",
    "plt.show()"
   ]
  },
  {
   "cell_type": "markdown",
   "metadata": {
    "slideshow": {
     "slide_type": "subslide"
    }
   },
   "source": [
    "**NO, we cannot linearize and ignore the impact on noise**"
   ]
  },
  {
   "cell_type": "markdown",
   "metadata": {
    "slideshow": {
     "slide_type": "slide"
    }
   },
   "source": [
    "Checking if Linearization is Valid\n",
    "====\n",
    "\n",
    "The way to check if the linearization is valid is to see if the residuals are normally distributed. Since you are assuming the noise is normal after linearization, you can check that assumption:"
   ]
  },
  {
   "cell_type": "code",
   "execution_count": 5,
   "metadata": {
    "slideshow": {
     "slide_type": "fragment"
    }
   },
   "outputs": [
    {
     "data": {
      "text/plain": [
       "(0.8977533578872681, 0.03743453323841095)"
      ]
     },
     "execution_count": 5,
     "metadata": {},
     "output_type": "execute_result"
    }
   ],
   "source": [
    "resids = y - beta_0 * np.exp(-x**2 * beta_1)\n",
    "scipy.stats.shapiro(resids)"
   ]
  },
  {
   "cell_type": "markdown",
   "metadata": {
    "slideshow": {
     "slide_type": "subslide"
    }
   },
   "source": [
    "The Shapiro-Wilk test says absolutely not are they normal, as we can imagine from looking at the graph."
   ]
  },
  {
   "cell_type": "markdown",
   "metadata": {
    "slideshow": {
     "slide_type": "slide"
    }
   },
   "source": [
    "Nonlinear Multidimensional Least-Squares\n",
    "===="
   ]
  },
  {
   "cell_type": "markdown",
   "metadata": {
    "slideshow": {
     "slide_type": "subslide"
    }
   },
   "source": [
    "To treat things like the exponential distribution from above, we need to use an objective function and minimization. We'll minimize the SSR directly:\n",
    "\n",
    "$$SSR = \\sum_i (\\hat{y}_i - y_i)^2 $$\n",
    "\n",
    "$$SSR = \\sum_i (\\beta_0 e^{-\\beta_1 x^2} - y_i)^2 $$\n",
    "\n",
    "So our SSR is a function which takes in $(\\beta_0, \\beta_1)$"
   ]
  },
  {
   "cell_type": "markdown",
   "metadata": {
    "slideshow": {
     "slide_type": "subslide"
    }
   },
   "source": [
    "We're going to use a new technique this time. Instead of relying on the data being defined, we'll have our SSR take that as extra arguments and we'll tell the minimizer about these extra args."
   ]
  },
  {
   "cell_type": "code",
   "execution_count": 6,
   "metadata": {
    "slideshow": {
     "slide_type": "subslide"
    }
   },
   "outputs": [
    {
     "name": "stdout",
     "output_type": "stream",
     "text": [
      "      fun: 0.6387351593324605\n",
      " hess_inv: array([[0.16566385, 0.01037387],\n",
      "       [0.01037387, 0.00203523]])\n",
      "      jac: array([ 5.21540642e-08, -4.61935997e-07])\n",
      "  message: 'Optimization terminated successfully.'\n",
      "     nfev: 80\n",
      "      nit: 12\n",
      "     njev: 20\n",
      "   status: 0\n",
      "  success: True\n",
      "        x: array([2.06618151, 0.08906969])\n"
     ]
    }
   ],
   "source": [
    "#Create an objective function, that takes in 1 D-dimensional argument and outputs a measure of the goodness of fit (SSR)\n",
    "def obj(beta, x, y):\n",
    "    beta_0 = beta[0] #<- extract the elements of the beta vector\n",
    "    beta_1 = beta[1]\n",
    "    yhat = beta_0 * np.exp(-beta_1 * x**2) # <- This is our model equation\n",
    "    resids = yhat - y #<- compute residuals\n",
    "    SSR = np.sum(resids**2) #<- square and sum them\n",
    "    return SSR\n",
    "\n",
    "#Use the minimize (BGFS) function, with starting points\n",
    "result = scipy.optimize.minimize(obj, x0=[1,1], args=(x, y))\n",
    "beta_opt = result.x #<- remember, we get out a whole bunch of extra stuff from optimization\n",
    "print(result)"
   ]
  },
  {
   "cell_type": "code",
   "execution_count": 7,
   "metadata": {
    "slideshow": {
     "slide_type": "subslide"
    }
   },
   "outputs": [
    {
     "data": {
      "image/png": "[encoded data removed]",
      "text/plain": [
       "<Figure size 432x288 with 1 Axes>"
      ]
     },
     "metadata": {
      "needs_background": "light"
     },
     "output_type": "display_data"
    }
   ],
   "source": [
    "plt.plot(x,y, 'o', label='data')\n",
    "plt.plot(x, 2 * np.exp(-x**2 * 0.1), '-', label='exact solution')\n",
    "plt.plot(x, beta_0 * np.exp(-x**2 * beta_1), '-', label='linearized least squares')\n",
    "plt.plot(x, beta_opt[0] * np.exp(-x**2 * beta_opt[1]), '-', label='Nonlinear least squares')\n",
    "plt.legend(loc='upper right')\n",
    "plt.show()"
   ]
  },
  {
   "cell_type": "markdown",
   "metadata": {
    "slideshow": {
     "slide_type": "subslide"
    }
   },
   "source": [
    "Error Analysis in Nonlinear Least Squares\n",
    "====\n",
    "\n",
    "Just like for the one-dimensional and multidimensional case, there exists an expression to go from standard error in the residuals to standard error for the fit. That expression is:\n",
    "\n",
    "$$y = f(\\beta, x) + \\epsilon$$\n",
    "\n",
    "$$ F_{ij} = \\frac{\\partial f(\\hat{\\beta}, x_i)}{\\partial \\hat{\\beta_j}}$$\n",
    "\n",
    "$$S^2_{\\beta_{ij}} = S^2_{\\epsilon}\\left(\\mathbf{F}^T\\mathbf{F}\\right)^{-1}$$\n",
    "\n",
    "where again, the standard error for the $i$th given fit parameter is $S^2_{\\beta{ii}}$"
   ]
  },
  {
   "cell_type": "markdown",
   "metadata": {
    "slideshow": {
     "slide_type": "fragment"
    }
   },
   "source": [
    "Take a close look at the partial derivatives. $x_i$ can be a vector here and remember that you're taking the partial with respect to the fit parameters, not $x$"
   ]
  },
  {
   "cell_type": "markdown",
   "metadata": {
    "slideshow": {
     "slide_type": "slide"
    }
   },
   "source": [
    "Sketch of Derivation of Error Terms\n",
    "====\n",
    "\n",
    "Let's try to understand this equation. It is a generalization of the OLS in N-D, so our derivation will apply to all cases we learned in lecture 1 too."
   ]
  },
  {
   "cell_type": "markdown",
   "metadata": {
    "slideshow": {
     "slide_type": "subslide"
    }
   },
   "source": [
    "Consider the $\\mathbf{F}^T\\mathbf{F}$ term. You can see by expanding the terms that it is\n",
    "\n",
    "$$\n",
    "\\mathbf{F}^T\\mathbf{F} = \\sum_k^N \\frac{\\partial f(\\hat{\\beta}, x_k)}{\\partial \\hat{\\beta_i}} \\frac{\\partial f(\\hat{\\beta}, x_k)}{\\partial \\hat{\\beta_j}}\n",
    "$$"
   ]
  },
  {
   "cell_type": "markdown",
   "metadata": {
    "slideshow": {
     "slide_type": "fragment"
    }
   },
   "source": [
    "where $i$ is the row and $j$ is the index. This expression is approximately:\n",
    "\n",
    "$$\n",
    "\\mathbf{F}^T\\mathbf{F} \\approx \\frac{\\sum_k^N \n",
    "\\left(\\Delta f(\\hat{\\beta}, x_k)\\right)^2}{\\Delta\\hat{\\beta_i} \\Delta \\hat{\\beta_j}}\n",
    "$$"
   ]
  },
  {
   "cell_type": "markdown",
   "metadata": {
    "slideshow": {
     "slide_type": "subslide"
    }
   },
   "source": [
    "So the *diagonal* of $\\mathbf{F}^T\\mathbf{F}$ is the total change in the value of the squared function per change in the square of the value of a fit coefficient.\n",
    "\n",
    "$$\n",
    "\\mathrm{diag}\\left[\\mathbf{F}^T\\mathbf{F}\\right] \\approx \\frac{\\sum_k^N \n",
    "\\left(\\Delta f(\\hat{\\beta}, x_k)\\right)^2}{\\Delta\\hat{\\beta_i}^2}\n",
    "$$"
   ]
  },
  {
   "cell_type": "markdown",
   "metadata": {
    "slideshow": {
     "slide_type": "fragment"
    }
   },
   "source": [
    "We can loosely think of $\\mathbf{F}^T\\mathbf{F}$ as a function, or operator, that goes from a change in the fit coefficients squared to a change in the squared value of the function. \n",
    "\n",
    "We also know that our residual, $f(\\hat{\\beta}, x) - y$, has the same derivative wrt the fit coefficients as the function itself. Thus $\\mathbf{F}^T\\mathbf{F}$ allows us to compute a change in the residual given a change in the fit coefficients (*this is a simplification*)."
   ]
  },
  {
   "cell_type": "markdown",
   "metadata": {
    "slideshow": {
     "slide_type": "subslide"
    }
   },
   "source": [
    "Therefore the inverse, $\\left(\\mathbf{F}^T\\mathbf{F}\\right)^{-1}$, goes from a change in the residual squared to a change in the fit coefficients squared."
   ]
  },
  {
   "cell_type": "markdown",
   "metadata": {
    "slideshow": {
     "slide_type": "fragment"
    }
   },
   "source": [
    "Now we can see that:\n",
    "    \n",
    "$$ S^2_{\\epsilon}\\left(\\mathbf{F}^T\\mathbf{F}\\right)^{-1} $$\n",
    "\n",
    "is the product of a change in the residual squared with our operator that translate that into a squared change in the fit coefficient squared. "
   ]
  },
  {
   "cell_type": "markdown",
   "metadata": {
    "slideshow": {
     "slide_type": "subslide"
    }
   },
   "source": [
    "Example: Error Analysis for Exponential Fit in Nonlinear Least Squares\n",
    "----\n",
    "\n",
    "To do the analysis from our example above, we must first compute the partial derivatives. Recall the model is:\n",
    "\n",
    "$$y = \\beta_0 e^{-\\beta_1 x^2} + \\epsilon $$\n",
    "\n",
    "So that \n",
    "\n",
    "$$f(\\beta, x) = \\beta_0 e^{-\\beta_1 x^2}$$\n",
    "\n",
    "$$\\frac{\\partial f}{\\partial \\beta_0} = e^{-\\beta_1 x^2}$$\n",
    "$$\\frac{\\partial f}{\\partial \\beta_1} = -\\beta_0 x^2 e^{-\\beta_1 x^2}$$\n",
    "\n",
    "To compute $\\mathbf{F}$, we'll need to compute these functions at various points, so it's best to create a python function"
   ]
  },
  {
   "cell_type": "code",
   "execution_count": 8,
   "metadata": {
    "slideshow": {
     "slide_type": "subslide"
    }
   },
   "outputs": [
    {
     "name": "stdout",
     "output_type": "stream",
     "text": [
      "[[ 1.00000000e+00 -0.00000000e+00]\n",
      " [ 9.75628846e-01 -5.58400633e-01]\n",
      " [ 9.06021555e-01 -2.07424375e+00]\n",
      " [ 8.00869385e-01 -4.12539436e+00]\n",
      " [ 6.73835860e-01 -6.17071333e+00]\n",
      " [ 5.39654511e-01 -7.72177405e+00]\n",
      " [ 4.11383405e-01 -8.47638235e+00]\n",
      " [ 2.98501825e-01 -8.37152039e+00]\n",
      " [ 2.06165730e-01 -7.55192591e+00]\n",
      " [ 1.35536176e-01 -6.28349852e+00]\n",
      " [ 8.48131602e-02 -4.85427655e+00]\n",
      " [ 5.05173461e-02 -3.49854260e+00]\n",
      " [ 2.86409272e-02 -2.36053712e+00]\n",
      " [ 1.54562056e-02 -1.49503327e+00]\n",
      " [ 7.93940509e-03 -8.90646369e-01]\n",
      " [ 3.88188176e-03 -4.99903399e-01]\n",
      " [ 1.80661623e-03 -2.64708047e-01]\n",
      " [ 8.00310988e-04 -1.32378633e-01]\n",
      " [ 3.37458923e-04 -6.25787948e-02]\n",
      " [ 1.35441675e-04 -2.79847085e-02]]\n"
     ]
    }
   ],
   "source": [
    "def build_F(beta, x):\n",
    "    #Compute the individual partials for each data point\n",
    "    beta_0_vec = np.exp(-beta[1] * x**2)\n",
    "    beta_1_vec = -beta[0] * x**2 * np.exp(-beta[1] * x**2)\n",
    "    #Now stack them together\n",
    "    return np.column_stack( (beta_0_vec, beta_1_vec) )\n",
    "\n",
    "print(build_F(beta_opt, x))"
   ]
  },
  {
   "cell_type": "markdown",
   "metadata": {
    "slideshow": {
     "slide_type": "subslide"
    }
   },
   "source": [
    "Now to actually compute the standard error:"
   ]
  },
  {
   "cell_type": "code",
   "execution_count": 9,
   "metadata": {
    "slideshow": {
     "slide_type": "fragment"
    }
   },
   "outputs": [
    {
     "name": "stdout",
     "output_type": "stream",
     "text": [
      "0.03548528662958114\n"
     ]
    }
   ],
   "source": [
    "#The code below is our normal way of computing the standard error in the noise\n",
    "resids = y - beta_opt[0] * np.exp(-x**2 * beta_opt[1])\n",
    "SSR = np.sum(resids**2)\n",
    "s2_epsilon = SSR / (len(x) - len(beta_opt))\n",
    "print(s2_epsilon)"
   ]
  },
  {
   "cell_type": "code",
   "execution_count": 10,
   "metadata": {
    "slideshow": {
     "slide_type": "subslide"
    }
   },
   "outputs": [
    {
     "name": "stdout",
     "output_type": "stream",
     "text": [
      "[[0.01123071 0.00064552]\n",
      " [0.00064552 0.00012526]]\n"
     ]
    }
   ],
   "source": [
    "#Using our F, compute the standard error in beta\n",
    "F = build_F(beta_opt, x)\n",
    "\n",
    "s2_beta = s2_epsilon * linalg.inv(F.transpose() @ F)\n",
    "print(s2_beta)"
   ]
  },
  {
   "cell_type": "code",
   "execution_count": 11,
   "metadata": {
    "slideshow": {
     "slide_type": "subslide"
    }
   },
   "outputs": [
    {
     "name": "stdout",
     "output_type": "stream",
     "text": [
      "95% confidence interval for beta_0 is 2.07 +/ 0.22\n",
      "95% confidence interval for beta_1 is 0.0891 +/ 0.024\n"
     ]
    }
   ],
   "source": [
    "#We have standard error and can now compute a confidence interval\n",
    "T = scipy.stats.t.ppf(0.975, len(x) - len(beta_opt))\n",
    "c0_width = T * np.sqrt(s2_beta[0,0])\n",
    "print('95% confidence interval for beta_0 is {:.3} +/ {:.2f}'.format(beta_opt[0], c0_width))\n",
    "\n",
    "c1_width = T * np.sqrt(s2_beta[1,1])\n",
    "print('95% confidence interval for beta_1 is {:.3} +/ {:.2}'.format(beta_opt[1], c1_width))"
   ]
  },
  {
   "cell_type": "markdown",
   "metadata": {
    "slideshow": {
     "slide_type": "subslide"
    }
   },
   "source": [
    "Of course, we could continue on and do hypothesis tests"
   ]
  },
  {
   "cell_type": "markdown",
   "metadata": {
    "slideshow": {
     "slide_type": "slide"
    }
   },
   "source": [
    "Multidimesional Non-Linear Regression\n",
    "====\n",
    "\n",
    "**These notes are not on HW or tests. Just stating how to do multidimensional y regression**\n",
    "\n",
    "When we have multiple dimensions in $y$, the dependent variable, a few things need to change. Our model equation becomes:\n",
    "\n",
    "$$\n",
    "\\vec{y} = f(x, \\beta) + \\vec{\\epsilon}\n",
    "$$\n",
    "\n",
    "where the noise is now a multivariate normal distribution. Multivariate normals are like multiple normal distributions, except that they have both different parameters for each dimension and they also may have correlation between dimensions. We will assume here that there is no correlation between the noise. \n",
    "\n",
    "Here we derive the $F$-matrix from above using its actual derivation.\n",
    "\n",
    "$$\n",
    "\\mathcal{F} = \\sum_k -(y_k - \\hat{y})_k^2) / 2\\sigma_k^2 - \\log \\sqrt{2\\pi\\sigma_k^2}\n",
    "$$\n",
    "\n",
    "The best estimaet for $\\sigma_k^2$ is\n",
    "\n",
    "$$\n",
    "\\sigma_k^2 = \\frac{1}{N - D}\\sum_k (y_k - \\hat{y})_k^2\n",
    "$$\n",
    "\n",
    "First, we need to redefine the SSR to be:\n",
    "\n",
    "$$\n",
    "\\textrm{SSR} = \\sum_i (y_i - \\hat{y}_i)\\cdot (y_i- \\hat{y}_i)\n",
    "$$\n",
    "\n",
    "This quantity should be minimized to find the regression parameters [ref](https://ieeexplore.ieee.org/stamp/stamp.jsp?tp=&arnumber=4285368)"
   ]
  },
  {
   "cell_type": "markdown",
   "metadata": {
    "slideshow": {
     "slide_type": "subslide"
    }
   },
   "source": [
    "The error analysis becomes:\n",
    "$$\n",
    "S^2_e = \\frac{SSR}{N - D}\n",
    "$$\n",
    "\n",
    "$$\n",
    "\\mathcal{F} = E\\left[\\frac{\\partial^2}{\\partial \\beta_i \\partial \\beta_j} SSR \\right]\n",
    "$$\n",
    "\n",
    "where $E$ means taking the average over the observed data"
   ]
  },
  {
   "cell_type": "markdown",
   "metadata": {
    "slideshow": {
     "slide_type": "slide"
    }
   },
   "source": [
    "A Complete & Complex Example - Deconvolution of Spectrum\n",
    "==="
   ]
  },
  {
   "cell_type": "markdown",
   "metadata": {
    "slideshow": {
     "slide_type": "subslide"
    }
   },
   "source": [
    "In spectroscopy and chromatography, often we have a spectrum that is a mixture of peaks and we'd like to spearate them out. For example, here's a plot of a spectrum"
   ]
  },
  {
   "cell_type": "code",
   "execution_count": 12,
   "metadata": {
    "slideshow": {
     "slide_type": "subslide"
    }
   },
   "outputs": [
    {
     "data": {
      "image/png": "[encoded data removed]",
      "text/plain": [
       "<Figure size 432x288 with 1 Axes>"
      ]
     },
     "metadata": {
      "needs_background": "light"
     },
     "output_type": "display_data"
    }
   ],
   "source": [
    "data = np.genfromtxt('spectrum.txt')\n",
    "\n",
    "plt.plot(data[:,0], data[:,1])\n",
    "plt.show()"
   ]
  },
  {
   "cell_type": "markdown",
   "metadata": {
    "slideshow": {
     "slide_type": "subslide"
    }
   },
   "source": [
    "You can see that there are probably 3 peaks in here. What we'd like to find out is what percentage each peak contributes. For example, this would tell us the amount of absorbance contributed by each of these three bonds or perhaps the amount of each compound in chromatography. "
   ]
  },
  {
   "cell_type": "markdown",
   "metadata": {
    "slideshow": {
     "slide_type": "subslide"
    }
   },
   "source": [
    "The equation for each peak is:\n",
    "\n",
    "$$ f(x, a, b, c) = \\frac{a}{\\sqrt{2 c \\pi}}\\,e^{-(x - b)^2 / c} $$\n",
    "\n",
    "and the total spectrum is \n",
    "\n",
    "$$ f(x_i, \\vec{a}, \\vec{b}, \\vec{c}) = \\sum_j^M \\frac{a_j}{\\sqrt{2 \\pi c_j}} e^{-(x_i - b_j)^2 / c_j} $$\n",
    "\n",
    "where $j$ is the index of peak and runs from $1$ to $M$ where $M$ is the number of peaks."
   ]
  },
  {
   "cell_type": "markdown",
   "metadata": {
    "slideshow": {
     "slide_type": "subslide"
    }
   },
   "source": [
    "Let's start by writing an equation that can predict a spectrum given some parameters"
   ]
  },
  {
   "cell_type": "code",
   "execution_count": 13,
   "metadata": {
    "slideshow": {
     "slide_type": "subslide"
    }
   },
   "outputs": [],
   "source": [
    "def peak(x, a, b, c):\n",
    "    '''computes the peak equation for given parameters'''\n",
    "    return a / np.sqrt(2 * np.pi * c) * np.exp(-(x - b)**2 / c)\n",
    "def spectrum(x, a_array, b_array, c_array):\n",
    "    '''Takes in the x data and parameters for a set of peaks. Computes spectrum'''\n",
    "    yhat = np.zeros(np.shape(x))\n",
    "    for i in range(len(a_array)):\n",
    "        yhat += peak(x, a_array[i], b_array[i], c_array[i])\n",
    "    return yhat\n",
    "        "
   ]
  },
  {
   "cell_type": "markdown",
   "metadata": {
    "slideshow": {
     "slide_type": "subslide"
    }
   },
   "source": [
    "It's always good to test your functions, so let's do that"
   ]
  },
  {
   "cell_type": "code",
   "execution_count": 14,
   "metadata": {
    "slideshow": {
     "slide_type": "fragment"
    }
   },
   "outputs": [
    {
     "data": {
      "image/png": "[encoded data removed]",
      "text/plain": [
       "<Figure size 432x288 with 1 Axes>"
      ]
     },
     "metadata": {
      "needs_background": "light"
     },
     "output_type": "display_data"
    }
   ],
   "source": [
    "x = np.linspace(0, 10, 100)\n",
    "y = peak(x, 1, 5, 1)\n",
    "plt.plot(x,y)\n",
    "plt.show()"
   ]
  },
  {
   "cell_type": "code",
   "execution_count": 15,
   "metadata": {
    "slideshow": {
     "slide_type": "subslide"
    }
   },
   "outputs": [
    {
     "data": {
      "image/png": "[encoded data removed]",
      "text/plain": [
       "<Figure size 432x288 with 1 Axes>"
      ]
     },
     "metadata": {
      "needs_background": "light"
     },
     "output_type": "display_data"
    }
   ],
   "source": [
    "y = spectrum(x, [1, 2], [3, 5], [1,1])\n",
    "plt.plot(x,y)\n",
    "plt.show()"
   ]
  },
  {
   "cell_type": "markdown",
   "metadata": {
    "slideshow": {
     "slide_type": "subslide"
    }
   },
   "source": [
    "Ok! Now let's do the regression"
   ]
  },
  {
   "cell_type": "markdown",
   "metadata": {
    "slideshow": {
     "slide_type": "slide"
    }
   },
   "source": [
    "Justifying a regression\n",
    "---\n",
    "\n",
    "Let's first test if there is a correlation"
   ]
  },
  {
   "cell_type": "code",
   "execution_count": 16,
   "metadata": {
    "slideshow": {
     "slide_type": "fragment"
    }
   },
   "outputs": [
    {
     "data": {
      "text/plain": [
       "SpearmanrResult(correlation=0.34909264909264914, pvalue=4.933615809540912e-30)"
      ]
     },
     "execution_count": 16,
     "metadata": {},
     "output_type": "execute_result"
    }
   ],
   "source": [
    "spec_x = data[:,0]\n",
    "spec_y = data[:,1]\n",
    "\n",
    "scipy.stats.spearmanr(spec_x, spec_y)"
   ]
  },
  {
   "cell_type": "markdown",
   "metadata": {
    "slideshow": {
     "slide_type": "subslide"
    }
   },
   "source": [
    "Looks like there is a correlation, as indicated by the $p$-value. "
   ]
  },
  {
   "cell_type": "markdown",
   "metadata": {
    "slideshow": {
     "slide_type": "subslide"
    }
   },
   "source": [
    "Computing the SSR\n",
    "---\n",
    "\n",
    "Let's write our SSR function"
   ]
  },
  {
   "cell_type": "code",
   "execution_count": 17,
   "metadata": {
    "slideshow": {
     "slide_type": "subslide"
    }
   },
   "outputs": [],
   "source": [
    "def spec_ssr(params, data, M):\n",
    "    '''Compute SSR given the parameters, data, and number of desired peaks.'''\n",
    "    x = data[:,0]\n",
    "    y = data[:,1]\n",
    "    a_array = params[:M]\n",
    "    b_array = params[M:2*M]\n",
    "    c_array = params[2*M:3 * M]\n",
    "    yhat = spectrum(x, a_array, b_array, c_array)\n",
    "    return np.sum((yhat - y)**2)"
   ]
  },
  {
   "cell_type": "code",
   "execution_count": 18,
   "metadata": {
    "slideshow": {
     "slide_type": "subslide"
    }
   },
   "outputs": [],
   "source": [
    "def obj(params):\n",
    "    return spec_ssr(params, data=data, M=3)"
   ]
  },
  {
   "cell_type": "markdown",
   "metadata": {
    "slideshow": {
     "slide_type": "slide"
    }
   },
   "source": [
    "Optimizing\n",
    "---"
   ]
  },
  {
   "cell_type": "markdown",
   "metadata": {
    "slideshow": {
     "slide_type": "subslide"
    }
   },
   "source": [
    "Now we need to think aobut if this is non-convex! It is in fact non-convex, because there are many local minimums. This means we'll have to be smart about our starting parameters and/or run for many interations"
   ]
  },
  {
   "cell_type": "code",
   "execution_count": 19,
   "metadata": {
    "slideshow": {
     "slide_type": "subslide"
    }
   },
   "outputs": [
    {
     "name": "stdout",
     "output_type": "stream",
     "text": [
      "[ 515.00754662 2001.23149241  179.38225677  644.33899405  651.35194728\n",
      "  216.63135325   58.43055086  961.08476142  126.84613021]\n"
     ]
    }
   ],
   "source": [
    "import scipy.optimize as opt\n",
    "\n",
    "result = opt.basinhopping(obj, x0=[100, 100, 100, 600, 650, 700, 100, 100, 100], niter=100)\n",
    "print(result.x)"
   ]
  },
  {
   "cell_type": "markdown",
   "metadata": {
    "slideshow": {
     "slide_type": "subslide"
    }
   },
   "source": [
    "Let's see if 100 iterations gave us good data!"
   ]
  },
  {
   "cell_type": "code",
   "execution_count": 20,
   "metadata": {
    "slideshow": {
     "slide_type": "subslide"
    }
   },
   "outputs": [],
   "source": [
    "def spec_yhat(params, data, M):\n",
    "    '''compute the yhats for the spectrum problem'''\n",
    "    x = data[:,0]\n",
    "    a_array = params[:M]\n",
    "    b_array = params[M:2*M]\n",
    "    c_array = params[2*M:3 * M]\n",
    "    return spectrum(x, a_array, b_array, c_array)\n"
   ]
  },
  {
   "cell_type": "code",
   "execution_count": 21,
   "metadata": {
    "slideshow": {
     "slide_type": "subslide"
    }
   },
   "outputs": [
    {
     "data": {
      "image/png": "[encoded data removed]",
      "text/plain": [
       "<Figure size 432x288 with 1 Axes>"
      ]
     },
     "metadata": {
      "needs_background": "light"
     },
     "output_type": "display_data"
    }
   ],
   "source": [
    "plt.plot(spec_x, spec_y, label='data')\n",
    "plt.plot(spec_x, spec_yhat(result.x, data, 3), label='fit')\n",
    "plt.legend()\n",
    "plt.show()"
   ]
  },
  {
   "cell_type": "markdown",
   "metadata": {
    "slideshow": {
     "slide_type": "subslide"
    }
   },
   "source": [
    "What a bad fit! Let's try plotting the individual peaks"
   ]
  },
  {
   "cell_type": "code",
   "execution_count": 22,
   "metadata": {
    "slideshow": {
     "slide_type": "subslide"
    }
   },
   "outputs": [
    {
     "data": {
      "image/png": "[encoded data removed]",
      "text/plain": [
       "<Figure size 432x288 with 1 Axes>"
      ]
     },
     "metadata": {
      "needs_background": "light"
     },
     "output_type": "display_data"
    }
   ],
   "source": [
    "for i in range(3):\n",
    "    plt.plot(spec_x, peak(spec_x, result.x[i], result.x[i + 3], result.x[i + 6]))"
   ]
  },
  {
   "cell_type": "markdown",
   "metadata": {
    "slideshow": {
     "slide_type": "slide"
    }
   },
   "source": [
    "Wow, that is really wrong! We can hit on particular peaks, but they usually have no meaning. Let's try to add more info. What info do we have? The peak centers. Let's try adding some constraints describing this info:"
   ]
  },
  {
   "cell_type": "markdown",
   "metadata": {
    "slideshow": {
     "slide_type": "subslide"
    }
   },
   "source": [
    "Adding constraints describing what we know:\n",
    "\n",
    "$$ 600 < b_1 < 630 $$\n",
    "\n",
    "$$ 630 < b_2 < 650 $$\n",
    "\n",
    "$$ 650 < b_3 < 690 $$\n"
   ]
  },
  {
   "cell_type": "code",
   "execution_count": 23,
   "metadata": {
    "slideshow": {
     "slide_type": "subslide"
    }
   },
   "outputs": [],
   "source": [
    "#constraints follow the order above:\n",
    "\n",
    "constraints = [{'type': 'ineq', 'fun': lambda params: params[3] - 600},\n",
    "              {'type': 'ineq', 'fun': lambda params: 630 - params[3]},\n",
    "              {'type': 'ineq', 'fun': lambda params: params[4] - 630},\n",
    "              {'type': 'ineq', 'fun': lambda params: 650 - params[4]},\n",
    "              {'type': 'ineq', 'fun': lambda params: params[5] - 650},\n",
    "              {'type': 'ineq', 'fun': lambda params: 690 - params[5]}]\n",
    "minimizer_kwargs = {'constraints': constraints}\n"
   ]
  },
  {
   "cell_type": "code",
   "execution_count": 24,
   "metadata": {
    "slideshow": {
     "slide_type": "fragment"
    }
   },
   "outputs": [
    {
     "name": "stderr",
     "output_type": "stream",
     "text": [
      "/opt/conda/lib/python3.7/site-packages/ipykernel_launcher.py:3: RuntimeWarning: invalid value encountered in sqrt\n",
      "  This is separate from the ipykernel package so we can avoid doing imports until\n"
     ]
    },
    {
     "name": "stdout",
     "output_type": "stream",
     "text": [
      "[ 396.93605846 1535.87314691  623.85280321  610.00914022  645.00925339\n",
      "  670.00493358  249.15706481  150.1695907    99.16549081]\n"
     ]
    }
   ],
   "source": [
    "result = opt.basinhopping(obj, x0=[100, 100, 100, 600, 650, 700, 100, 100, 100], niter=350, minimizer_kwargs=minimizer_kwargs)\n",
    "print(result.x)"
   ]
  },
  {
   "cell_type": "code",
   "execution_count": 25,
   "metadata": {
    "slideshow": {
     "slide_type": "subslide"
    }
   },
   "outputs": [
    {
     "data": {
      "image/png": "[encoded data removed]",
      "text/plain": [
       "<Figure size 432x288 with 1 Axes>"
      ]
     },
     "metadata": {
      "needs_background": "light"
     },
     "output_type": "display_data"
    }
   ],
   "source": [
    "plt.plot(spec_x, spec_y, label='data')\n",
    "plt.plot(spec_x, spec_yhat(result.x, data, 3), label='fit')\n",
    "for i in range(3):\n",
    "    plt.plot(spec_x, peak(spec_x, result.x[i], result.x[i + 3], result.x[i + 6]), label='peak {}'.format(i))\n",
    "plt.legend()\n",
    "plt.show()"
   ]
  },
  {
   "cell_type": "markdown",
   "metadata": {
    "slideshow": {
     "slide_type": "slide"
    }
   },
   "source": [
    "Checking residuals\n",
    "---"
   ]
  },
  {
   "cell_type": "code",
   "execution_count": 26,
   "metadata": {
    "slideshow": {
     "slide_type": "fragment"
    }
   },
   "outputs": [
    {
     "data": {
      "image/png": "[encoded data removed]",
      "text/plain": [
       "<Figure size 432x288 with 1 Axes>"
      ]
     },
     "metadata": {
      "needs_background": "light"
     },
     "output_type": "display_data"
    },
    {
     "data": {
      "text/plain": [
       "(0.9985383152961731, 0.5798115134239197)"
      ]
     },
     "execution_count": 26,
     "metadata": {},
     "output_type": "execute_result"
    }
   ],
   "source": [
    "resids = spec_y - spec_yhat(result.x, data, 3)\n",
    "plt.hist(resids)\n",
    "plt.show()\n",
    "scipy.stats.shapiro(resids)"
   ]
  },
  {
   "cell_type": "markdown",
   "metadata": {
    "slideshow": {
     "slide_type": "subslide"
    }
   },
   "source": [
    "Looks like they are normal"
   ]
  },
  {
   "cell_type": "markdown",
   "metadata": {
    "slideshow": {
     "slide_type": "slide"
    }
   },
   "source": [
    "Computing Standard Error\n",
    "---\n",
    "\n",
    "We need the partials:\n",
    "\n",
    "$$\\frac{\\partial f}{\\partial a} = \\frac{1}{\\sqrt{2 \\pi c}}e^{-(x - b)^2 / c}$$\n",
    "\n",
    "$$\\frac{\\partial f}{\\partial b} = \\frac{2a(x - b)}{c\\sqrt{2 \\pi c}} e^{-(x - b)^2 / c}$$\n",
    "\n",
    "$$\\frac{\\partial f}{\\partial c} = \\frac{a}{\\sqrt{2 \\pi}}e^{-(x - b)^2 / c}\\left[\\frac{(x - b)^2}{c^{5/2}} - \\frac{1}{2c^{3/2}}\\right]$$"
   ]
  },
  {
   "cell_type": "code",
   "execution_count": 27,
   "metadata": {
    "slideshow": {
     "slide_type": "subslide"
    }
   },
   "outputs": [],
   "source": [
    "def peak_partials(x, a, b, c):\n",
    "    '''Returns partial derivatives of peak functions with respect to parameters as a tuple'''\n",
    "    return (1 / (np.sqrt(2 * np.pi * c)) * np.exp(-(x - b)**2 / c), \\\n",
    "            2 * a * (x - b) / c / np.sqrt(2 * np.pi * c) * np.exp(-(x - b)**2 / c),\\\n",
    "            a / np.sqrt( 2 * np.pi) * np.exp(-(x - b)**2 / c) * ((x - b)**2 / c**(5 / 2) - 1 / 2 / c**(3/2)))"
   ]
  },
  {
   "cell_type": "markdown",
   "metadata": {
    "slideshow": {
     "slide_type": "subslide"
    }
   },
   "source": [
    "We have to decide how we want to build the ${\\mathbf F}$ matrix. I want to build it as \n",
    "\n",
    "$$\\left[\\frac{\\partial f}{\\partial a_1}, \\frac{\\partial f}{\\partial a_2}, \\frac{\\partial f}{\\partial a_3}, \\frac{\\partial f}{\\partial b_1}, \\ldots\\right]$$"
   ]
  },
  {
   "cell_type": "code",
   "execution_count": 28,
   "metadata": {
    "slideshow": {
     "slide_type": "fragment"
    }
   },
   "outputs": [],
   "source": [
    "def spectrum_partials(x, a_array, b_array, c_array):\n",
    "    '''Takes in the x data and parameters for a set of peaks. Computes partial derivatives and returns as matrix'''\n",
    "    result = np.empty( (len(x), len(a_array) * 3 ) )\n",
    "    for i in range(len(a_array)):\n",
    "        a_p, b_p, c_p = peak_partials(x, a_array[i], b_array[i], c_array[i])\n",
    "        result[:, i] = a_p\n",
    "        result[:, i  + 3] = b_p\n",
    "        result[:, i + 6] = c_p\n",
    "    return result"
   ]
  },
  {
   "cell_type": "code",
   "execution_count": 29,
   "metadata": {
    "slideshow": {
     "slide_type": "subslide"
    }
   },
   "outputs": [
    {
     "name": "stdout",
     "output_type": "stream",
     "text": [
      "[[5.96163850e-047 3.41085036e-112 4.22479807e-214 ... 9.71205239e-045\n",
      "  8.81670130e-109 1.29594533e-210]\n",
      " [8.76433165e-047 7.43573285e-112 1.59991023e-213 ... 1.42240908e-044\n",
      "  1.91613450e-108 4.89427889e-210]\n",
      " [1.28753069e-046 1.61906126e-111 6.04777170e-213 ... 2.08171140e-044\n",
      "  4.15931841e-108 1.84501215e-209]\n",
      " ...\n",
      " [3.43347278e-036 9.93866089e-034 9.92393158e-030 ... 4.23817648e-034\n",
      "  7.32547002e-031 3.93727352e-027]\n",
      " [2.45274025e-036 6.54253851e-034 6.12993012e-030 ... 3.04073297e-034\n",
      "  4.85027389e-031 2.45059976e-027]\n",
      " [1.75087494e-036 4.30172947e-034 3.77952653e-030 ... 2.18001288e-034\n",
      "  3.20751081e-031 1.52246274e-027]]\n"
     ]
    }
   ],
   "source": [
    "M = 3\n",
    "F = spectrum_partials(spec_x, result.x[:M], result.x[M:2*M], result.x[2*M:3*M])\n",
    "print(F)"
   ]
  },
  {
   "cell_type": "markdown",
   "metadata": {
    "slideshow": {
     "slide_type": "subslide"
    }
   },
   "source": [
    "Now we compute all the confidence intervals"
   ]
  },
  {
   "cell_type": "code",
   "execution_count": 30,
   "metadata": {
    "slideshow": {
     "slide_type": "subslide"
    }
   },
   "outputs": [
    {
     "name": "stdout",
     "output_type": "stream",
     "text": [
      "396.9360584626854 +/- 2.9053462007965516\n",
      "1535.8731469097745 +/- 3.726908748831584\n",
      "623.8528032145897 +/- 2.9100118852776227\n",
      "610.0091402212576 +/- 0.09042323859505816\n",
      "645.0092533938304 +/- 0.018911758759361075\n",
      "670.0049335827936 +/- 0.03502566911286785\n",
      "249.1570648134466 +/- 4.418077471259899\n",
      "150.16959069781274 +/- 0.845817735826172\n",
      "99.16549080652315 +/- 0.9623322371153976\n"
     ]
    }
   ],
   "source": [
    "SSR = np.sum(resids**2)\n",
    "s2_epsilon = SSR / (len(spec_x) - len(result.x))\n",
    "s2_beta = np.diag(s2_epsilon * linalg.inv(F.transpose() @ F))\n",
    "ci = np.sqrt(s2_beta) * scipy.stats.norm.ppf(0.975)\n",
    "\n",
    "for pi, c in zip(result.x, ci):\n",
    "    print('{} +/- {}'.format(pi, c))"
   ]
  },
  {
   "cell_type": "markdown",
   "metadata": {
    "slideshow": {
     "slide_type": "skip"
    }
   },
   "source": [
    "The relative populations, the integrated peaks, are just the $a$ values. I'll normalize them into percent:"
   ]
  },
  {
   "cell_type": "code",
   "execution_count": 31,
   "metadata": {},
   "outputs": [
    {
     "name": "stdout",
     "output_type": "stream",
     "text": [
      "15.525559% +/- 0.113638%\n",
      "60.073375% +/- 0.145772%\n",
      "24.401067% +/- 0.113821%\n"
     ]
    }
   ],
   "source": [
    "for pi, c in zip(result.x[:3], ci[:3]):\n",
    "    print('{:%} +/- {:%}'.format(pi / np.sum(result.x[:3]), c / np.sum(result.x[:3])))"
   ]
  }
 ],
 "metadata": {
  "celltoolbar": "Slideshow",
  "kernelspec": {
   "display_name": "Python 3",
   "language": "python",
   "name": "python3"
  },
  "language_info": {
   "codemirror_mode": {
    "name": "ipython",
    "version": 3
   },
   "file_extension": ".py",
   "mimetype": "text/x-python",
   "name": "python",
   "nbconvert_exporter": "python",
   "pygments_lexer": "ipython3",
   "version": "3.7.3"
  }
 },
 "nbformat": 4,
 "nbformat_minor": 1
}
