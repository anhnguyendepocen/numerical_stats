{
 "cells": [
  {
   "cell_type": "markdown",
   "metadata": {},
   "source": [
    "# Homework 8 Key\n",
    "#### CHE 116: Numerical Methods and Statistics\n",
    "\n",
    "\n",
    "3/27/2020\n",
    "\n",
    "----"
   ]
  },
  {
   "cell_type": "markdown",
   "metadata": {},
   "source": [
    "## 1. Central Limit Theorem (10 Points)\n",
    "\n",
    "State whether the CLT applies to the following cases. 2 points each\n",
    "\n",
    "1. You average crops harvested across 24 fields\n",
    "2. You sum the crops harvested from 24 fields\n",
    "3. You compute the maximum height among 25 people\n",
    "4. You compute the average tire pressure of the four tires on a car\n",
    "5. You measure the weight of 25 pumpkins"
   ]
  },
  {
   "cell_type": "markdown",
   "metadata": {},
   "source": [
    "### 1.1\n",
    "Yes\n",
    "\n",
    "### 1.2\n",
    "Yes\n",
    "\n",
    "### 1.3\n",
    "No, did not sum or avg\n",
    "\n",
    "### 1.4\n",
    "No, not enough samples\n",
    "\n",
    "### 1.5\n",
    "No, no avg or sum"
   ]
  },
  {
   "cell_type": "markdown",
   "metadata": {},
   "source": [
    "# 2. Confidence Intervals (30 Points)\n",
    "Report the given confidence interval for error in the mean using the data given for each problem what the confidence interval is for each example. 5 points each\n",
    "\n",
    "### 2.1\n",
    "\n",
    "95% Double. \n",
    "\n",
    "`data_21 = [65.58, -28.15, 21.17, -0.57, 6.04, -10.21, 36.46, 10.67, 77.98, 15.97]`\n",
    "\n",
    "### 2.2\n",
    "\n",
    "80% Upper (lower bound, a value such that the mean lies above that value 80% of the time)\n",
    "\n",
    "`data_22 = [-8.78, -6.06, -6.03, -6.9, -13.57, -18.76, 1.5, -8.21, -3.21, -11.85, -2.72, -10.38, -11.03, -10.85, -7.6, -7.76, -5.99, -10.02, -6.32, -8.35, -19.28, -11.53, -6.04, -0.81, -12.01, -3.22, -9.25, -4.13, -7.22, -11.0, -14.42, 1.07]`\n",
    "\n",
    "### 2.3\n",
    "\n",
    "80% Double\n",
    "\n",
    "`data_23 = [14.62, 10.34, 7.68, 15.81, 14.48]`\n",
    "\n",
    "### 2.4\n",
    "\n",
    "Redo part 3 with a known standard deviation of 3.5\n",
    "\n",
    "\n",
    "### 2.5\n",
    "\n",
    "90% Lower (upper bound)\n",
    "\n",
    "`data_25 = [2.47, 2.03, 1.82, 6.98, 2.41, 2.32, 7.11, 5.89, 5.77, 3.34, 2.75, 6.51]`"
   ]
  },
  {
   "cell_type": "code",
   "execution_count": 1,
   "metadata": {},
   "outputs": [
    {
     "name": "stdout",
     "output_type": "stream",
     "text": [
      "19.5 +/- 23.4\n"
     ]
    }
   ],
   "source": [
    "# 2.1\n",
    "import scipy.stats as ss\n",
    "import numpy as np\n",
    "\n",
    "data_21 = [65.58, -28.15, 21.17, -0.57, 6.04, -10.21, 36.46, 10.67, 77.98, 15.97]\n",
    "T = ss.t.ppf(0.975, len(data_21) - 1)\n",
    "y = np.std(data_21, ddof=1) / np.sqrt(len(data_21))\n",
    "print('{:.1f} +/- {:.1f}'.format(np.mean(data_21), y * T))"
   ]
  },
  {
   "cell_type": "code",
   "execution_count": 2,
   "metadata": {},
   "outputs": [
    {
     "name": "stdout",
     "output_type": "stream",
     "text": [
      "mu > -8.88 with 80%\n"
     ]
    }
   ],
   "source": [
    "# 2.2\n",
    "data_22 = [-8.78, -6.06, -6.03, -6.9, -13.57, -18.76, 1.5, -8.21, -3.21, -11.85, -2.72, -10.38, -11.03, -10.85, -7.6, -7.76, -5.99, -10.02, -6.32, -8.35, -19.28, -11.53, -6.04, -0.81, -12.01, -3.22, -9.25, -4.13, -7.22, -11.0, -14.42, 1.07]\n",
    "T = ss.t.ppf(0.2, len(data_22) - 1)\n",
    "y = np.std(data_22, ddof=1) / np.sqrt(len(data_22))\n",
    "print('mu > {:.2f} with 80%'.format(np.mean(data_22) + y * T))"
   ]
  },
  {
   "cell_type": "code",
   "execution_count": 3,
   "metadata": {},
   "outputs": [
    {
     "name": "stdout",
     "output_type": "stream",
     "text": [
      "12.6 +/- 2.4\n"
     ]
    }
   ],
   "source": [
    "# 2.3\n",
    "data_23 = [14.62, 10.34, 7.68, 15.81, 14.48]\n",
    "T = ss.t.ppf(0.9, len(data_23) - 1)\n",
    "y = np.std(data_23, ddof=1) / np.sqrt(len(data_23))\n",
    "print('{:.1f} +/- {:.1f}'.format(np.mean(data_23), T * y))"
   ]
  },
  {
   "cell_type": "code",
   "execution_count": 4,
   "metadata": {},
   "outputs": [
    {
     "name": "stdout",
     "output_type": "stream",
     "text": [
      "12.6 +/- 2.0\n"
     ]
    }
   ],
   "source": [
    "# 2.4\n",
    "data_23 = [14.62, 10.34, 7.68, 15.81, 14.48]\n",
    "Z = ss.norm.ppf(0.9)\n",
    "y = 3.5 / np.sqrt(len(data_23))\n",
    "print('{:.1f} +/- {:.1f}'.format(np.mean(data_23), Z * y))"
   ]
  },
  {
   "cell_type": "code",
   "execution_count": 5,
   "metadata": {},
   "outputs": [
    {
     "name": "stdout",
     "output_type": "stream",
     "text": [
      "mu < 4.95 with 90% confidence\n"
     ]
    }
   ],
   "source": [
    "#2.5\n",
    "data_25 = [2.47, 2.03, 1.82, 6.98, 2.41, 2.32, 7.11, 5.89, 5.77, 3.34, 2.75, 6.51]\n",
    "T = ss.t.ppf(0.9, len(data_25) - 1)\n",
    "y = np.std(data_25, ddof=1) / np.sqrt(len(data_25))\n",
    "print('mu < {:.2f} with 90% confidence'.format(np.mean(data_25) +  y * T))"
   ]
  },
  {
   "cell_type": "markdown",
   "metadata": {},
   "source": [
    "# 3. Identifiying Distributions (12 Points)\n",
    "\n",
    "For each problem state if it is a t or normal distribution and reports the distribution's parameters. Report your answer like: $T(0, 4.3, 4)$ to indicate a $t$-distribution with $\\mu = 0$, $\\sigma = 4.3$ and degrees of freedom of 4.  Note that $\\mu, \\sigma$s listed below are the population sigmas, not the parameters of a $t$-distribution. 2 Points each\n",
    "\n",
    "1. $P(\\mu - \\bar{x})$, $\\sigma = 1$, $N = 5$\n",
    "2. $P(\\mu - \\bar{x})$, $\\sigma_x = 1$, $N = 5$\n",
    "2. $P(\\bar{x})$, $\\mu = -1$, $\\sigma = 2$, $N = 30$\n",
    "2. $P(\\bar{x})$, $\\mu = 1$, $\\sigma_x = 2$, $N = 5$\n",
    "4. $P(\\mu)$, $\\bar{x} = 3$, $\\sigma = 1.7$, $N = 4$\n",
    "5. $P(\\mu)$, $\\bar{x} = 2$, $\\sigma_x = 2.1$, $N = 9$\n"
   ]
  },
  {
   "cell_type": "markdown",
   "metadata": {},
   "source": [
    "### 3.1\n",
    "$ \\mathcal{N}(0, \\frac{1}{\\sqrt{5}}) $\n",
    "\n",
    "### 3.2\n",
    "$ \\mathcal{T}(0, \\frac{1}{\\sqrt{5}}, 4) $\n",
    "\n",
    "### 3.3\n",
    "$ \\mathcal{N}(-1, \\frac{2}{\\sqrt{30}}) $\n",
    "\n",
    "### 3.4\n",
    "$ \\mathcal{T}(1, \\frac{2}{\\sqrt{5}}, 4) $\n",
    "\n",
    "### 3.5\n",
    "$ \\mathcal{N}(3, \\frac{1.6}{\\sqrt{4}}) $\n",
    "\n",
    "### 3.6\n",
    "$ \\mathcal{T}(2, \\frac{2.1}{\\sqrt{9}}, 8) $"
   ]
  }
 ],
 "metadata": {
  "kernelspec": {
   "display_name": "Python 3",
   "language": "python",
   "name": "python3"
  },
  "language_info": {
   "codemirror_mode": {
    "name": "ipython",
    "version": 3
   },
   "file_extension": ".py",
   "mimetype": "text/x-python",
   "name": "python",
   "nbconvert_exporter": "python",
   "pygments_lexer": "ipython3",
   "version": "3.7.3"
  }
 },
 "nbformat": 4,
 "nbformat_minor": 2
}
