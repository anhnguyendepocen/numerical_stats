{
 "cells": [
  {
   "cell_type": "markdown",
   "metadata": {
    "slideshow": {
     "slide_type": "slide"
    }
   },
   "source": [
    "Optimization in 1-D and N-D. Debugging Functions\n",
    "====\n",
    "\n",
    "## Unit 11, Lecture 1\n",
    "\n",
    "*Numerical Methods and Statistics*\n",
    "\n",
    "----\n",
    "\n",
    "#### Prof. Andrew White,  April 19, 2020"
   ]
  },
  {
   "cell_type": "markdown",
   "metadata": {
    "slideshow": {
     "slide_type": "slide"
    }
   },
   "source": [
    "Goals:\n",
    "---\n",
    "\n",
    "1. Learn the meaning of root-finding and minimization, the two types of optimization\n",
    "2. Understand the iterative nature of these methods\n",
    "3. Debug common problems when defining functions, which is essential for optimization\n",
    "4. Be able to identify convex problems and understand their complexties\n",
    "5. Learn the two standard methods for minimize and root-finding and how to call them in Python"
   ]
  },
  {
   "cell_type": "code",
   "execution_count": 2,
   "metadata": {
    "collapsed": true,
    "hide_input": false,
    "slideshow": {
     "slide_type": "skip"
    }
   },
   "outputs": [],
   "source": [
    "import numpy as np\n",
    "import matplotlib.pyplot as plt"
   ]
  },
  {
   "cell_type": "markdown",
   "metadata": {
    "slideshow": {
     "slide_type": "slide"
    }
   },
   "source": [
    "Numerical Optimization - Root Finding\n",
    "====\n",
    "\n",
    "What is $x$ in\n",
    "\n",
    "$$\\cos (x) = x$$"
   ]
  },
  {
   "cell_type": "markdown",
   "metadata": {
    "slideshow": {
     "slide_type": "fragment"
    }
   },
   "source": [
    "To use a root-finding method, we must make our equation have one side be 0.\n",
    "\n",
    "$$\\cos (x) - x = 0$$"
   ]
  },
  {
   "cell_type": "markdown",
   "metadata": {
    "slideshow": {
     "slide_type": "slide"
    }
   },
   "source": [
    "Newton's Method - For finding Roots\n",
    "===="
   ]
  },
  {
   "cell_type": "code",
   "execution_count": 3,
   "metadata": {
    "slideshow": {
     "slide_type": "fragment"
    }
   },
   "outputs": [
    {
     "name": "stdout",
     "output_type": "stream",
     "text": [
      "0.739085133215 0.0\n"
     ]
    }
   ],
   "source": [
    "from scipy.optimize import newton\n",
    "\n",
    "root =  newton(lambda x: np.cos(x) - x, x0=0)\n",
    "print(root, np.cos(root) - root)"
   ]
  },
  {
   "cell_type": "markdown",
   "metadata": {
    "slideshow": {
     "slide_type": "fragment"
    }
   },
   "source": [
    "$$x_{i+1} = x_i - \\frac{f(x_i)}{f'(x_i)}$$"
   ]
  },
  {
   "cell_type": "raw",
   "metadata": {
    "slideshow": {
     "slide_type": "subslide"
    }
   },
   "source": [
    "<div class=\"naked-img\">\n",
    "    <img src=\"http://upload.wikimedia.org/wikipedia/commons/e/e0/NewtonIteration_Ani.gif\"/>\n",
    "    <p>     Source: Wikipedia, Newton's Method </p>\n",
    "</div>"
   ]
  },
  {
   "cell_type": "markdown",
   "metadata": {
    "slideshow": {
     "slide_type": "subslide"
    }
   },
   "source": [
    "This method, like all this unit are *iterative*. This is modifiable by you, either through choosing tolerance, or maximum iterations. The functions have sensible defaults"
   ]
  },
  {
   "cell_type": "code",
   "execution_count": 4,
   "metadata": {
    "slideshow": {
     "slide_type": "fragment"
    }
   },
   "outputs": [
    {
     "name": "stdout",
     "output_type": "stream",
     "text": [
      "0.739085112157 3.52429233574e-08\n"
     ]
    }
   ],
   "source": [
    "root =  newton(lambda x: np.cos(x) - x, x0=0, tol=1e-3)\n",
    "print(root, np.cos(root) - root)"
   ]
  },
  {
   "cell_type": "code",
   "execution_count": 5,
   "metadata": {
    "slideshow": {
     "slide_type": "fragment"
    }
   },
   "outputs": [
    {
     "name": "stdout",
     "output_type": "stream",
     "text": [
      "0.739085112157 3.52429233574e-08\n"
     ]
    }
   ],
   "source": [
    "root =  newton(lambda x: np.cos(x) - x, x0=0, tol=1e-3, maxiter=5)\n",
    "print(root, np.cos(root) - root)"
   ]
  },
  {
   "cell_type": "markdown",
   "metadata": {
    "slideshow": {
     "slide_type": "subslide"
    }
   },
   "source": [
    "Newton's Method\n",
    "====\n",
    "*Use `root` instead, this is just for instructional purposes. `root` is better*\n",
    "\n",
    "**Type:** Root Finding\n",
    "\n",
    "**Discrete/Continuous:** Continuous\n",
    "\n",
    "**Dimensions:** 1\n",
    "\n",
    "**Derivative:** optional\n",
    "\n",
    "**Non-Convex:** not recommended\n",
    "\n",
    "**Python:** `newton`\n",
    "\n"
   ]
  },
  {
   "cell_type": "markdown",
   "metadata": {
    "slideshow": {
     "slide_type": "slide"
    }
   },
   "source": [
    "Let's try to solve a more interesting equation with Newton's method!\n",
    "\n",
    "$$ \\int_0^x e^{-s^2}\\,ds = \\frac{1}{2}$$\n",
    "\n",
    "Find $x$"
   ]
  },
  {
   "cell_type": "code",
   "execution_count": 6,
   "metadata": {
    "slideshow": {
     "slide_type": "subslide"
    }
   },
   "outputs": [
    {
     "ename": "TypeError",
     "evalue": "can't multiply sequence by non-int of type 'float'",
     "output_type": "error",
     "traceback": [
      "\u001b[0;31m---------------------------------------------------------------------------\u001b[0m",
      "\u001b[0;31mTypeError\u001b[0m                                 Traceback (most recent call last)",
      "\u001b[0;32m<ipython-input-6-1e2e32c2ba46>\u001b[0m in \u001b[0;36m<module>\u001b[0;34m()\u001b[0m\n\u001b[1;32m      3\u001b[0m \u001b[0;32mdef\u001b[0m \u001b[0mequation\u001b[0m\u001b[0;34m(\u001b[0m\u001b[0mx\u001b[0m\u001b[0;34m)\u001b[0m\u001b[0;34m:\u001b[0m\u001b[0;34m\u001b[0m\u001b[0m\n\u001b[1;32m      4\u001b[0m     \u001b[0;32mreturn\u001b[0m \u001b[0mquad\u001b[0m\u001b[0;34m(\u001b[0m\u001b[0;32mlambda\u001b[0m \u001b[0ms\u001b[0m\u001b[0;34m:\u001b[0m \u001b[0mnp\u001b[0m\u001b[0;34m.\u001b[0m\u001b[0mexp\u001b[0m\u001b[0;34m(\u001b[0m\u001b[0;34m-\u001b[0m\u001b[0ms\u001b[0m\u001b[0;34m**\u001b[0m\u001b[0;36m2\u001b[0m\u001b[0;34m)\u001b[0m\u001b[0;34m,\u001b[0m \u001b[0;36m0\u001b[0m\u001b[0;34m,\u001b[0m \u001b[0mx\u001b[0m\u001b[0;34m)\u001b[0m\u001b[0;34m\u001b[0m\u001b[0m\n\u001b[0;32m----> 5\u001b[0;31m \u001b[0mroot\u001b[0m \u001b[0;34m=\u001b[0m \u001b[0mnewton\u001b[0m\u001b[0;34m(\u001b[0m\u001b[0mequation\u001b[0m\u001b[0;34m,\u001b[0m \u001b[0mx0\u001b[0m\u001b[0;34m=\u001b[0m\u001b[0;36m0\u001b[0m\u001b[0;34m)\u001b[0m\u001b[0;34m\u001b[0m\u001b[0m\n\u001b[0m",
      "\u001b[0;32m/opt/conda/lib/python3.6/site-packages/scipy/optimize/zeros.py\u001b[0m in \u001b[0;36mnewton\u001b[0;34m(func, x0, fprime, args, tol, maxiter, fprime2)\u001b[0m\n\u001b[1;32m    205\u001b[0m                 \u001b[0;32mreturn\u001b[0m \u001b[0;34m(\u001b[0m\u001b[0mp1\u001b[0m \u001b[0;34m+\u001b[0m \u001b[0mp0\u001b[0m\u001b[0;34m)\u001b[0m\u001b[0;34m/\u001b[0m\u001b[0;36m2.0\u001b[0m\u001b[0;34m\u001b[0m\u001b[0m\n\u001b[1;32m    206\u001b[0m             \u001b[0;32melse\u001b[0m\u001b[0;34m:\u001b[0m\u001b[0;34m\u001b[0m\u001b[0m\n\u001b[0;32m--> 207\u001b[0;31m                 \u001b[0mp\u001b[0m \u001b[0;34m=\u001b[0m \u001b[0mp1\u001b[0m \u001b[0;34m-\u001b[0m \u001b[0mq1\u001b[0m\u001b[0;34m*\u001b[0m\u001b[0;34m(\u001b[0m\u001b[0mp1\u001b[0m \u001b[0;34m-\u001b[0m \u001b[0mp0\u001b[0m\u001b[0;34m)\u001b[0m\u001b[0;34m/\u001b[0m\u001b[0;34m(\u001b[0m\u001b[0mq1\u001b[0m \u001b[0;34m-\u001b[0m \u001b[0mq0\u001b[0m\u001b[0;34m)\u001b[0m\u001b[0;34m\u001b[0m\u001b[0m\n\u001b[0m\u001b[1;32m    208\u001b[0m             \u001b[0;32mif\u001b[0m \u001b[0mabs\u001b[0m\u001b[0;34m(\u001b[0m\u001b[0mp\u001b[0m \u001b[0;34m-\u001b[0m \u001b[0mp1\u001b[0m\u001b[0;34m)\u001b[0m \u001b[0;34m<\u001b[0m \u001b[0mtol\u001b[0m\u001b[0;34m:\u001b[0m\u001b[0;34m\u001b[0m\u001b[0m\n\u001b[1;32m    209\u001b[0m                 \u001b[0;32mreturn\u001b[0m \u001b[0mp\u001b[0m\u001b[0;34m\u001b[0m\u001b[0m\n",
      "\u001b[0;31mTypeError\u001b[0m: can't multiply sequence by non-int of type 'float'"
     ]
    }
   ],
   "source": [
    "#Note: this code is intentionally really bad\n",
    "from scipy.integrate import quad\n",
    "def equation(x):\n",
    "    return quad(lambda s: np.exp(-s**2), 0, x)\n",
    "root = newton(equation, x0=0)"
   ]
  },
  {
   "cell_type": "markdown",
   "metadata": {
    "slideshow": {
     "slide_type": "slide"
    }
   },
   "source": [
    "Steps for Debugging Code\n",
    "===="
   ]
  },
  {
   "cell_type": "markdown",
   "metadata": {
    "slideshow": {
     "slide_type": "fragment"
    }
   },
   "source": [
    "1. Correct any Python errors\n",
    "2. Restart the Kernel\n",
    "3. Correct any Python errors\n",
    "4. Print to discover logical errors"
   ]
  },
  {
   "cell_type": "markdown",
   "metadata": {
    "slideshow": {
     "slide_type": "fragment"
    }
   },
   "source": [
    "Most Common Mistakes\n",
    "----\n",
    "\n",
    "1. Copy-Pasta leaving in old variables\n",
    "2. Mixing Numpy arrays and `for` loops\n",
    "3. Forgetting order of function args and return values"
   ]
  },
  {
   "cell_type": "markdown",
   "metadata": {
    "slideshow": {
     "slide_type": "slide"
    }
   },
   "source": [
    "Review of Functions\n",
    "====\n",
    "\n",
    "For functions like `quad`, `newton`, and `minimize` the function should take in 1 argument and return 1 argument."
   ]
  },
  {
   "cell_type": "markdown",
   "metadata": {
    "slideshow": {
     "slide_type": "subslide"
    }
   },
   "source": [
    "Correct Examples\n",
    "====\n",
    "$$x^2 - 3x + 2$$"
   ]
  },
  {
   "cell_type": "code",
   "execution_count": 7,
   "metadata": {
    "slideshow": {
     "slide_type": "fragment"
    }
   },
   "outputs": [
    {
     "name": "stdout",
     "output_type": "stream",
     "text": [
      "2.0\n",
      "2.0\n",
      "[ 2.  2.  2.  2.  2.  2.  2.  2.  2.  2.]\n"
     ]
    }
   ],
   "source": [
    "def version_1(x):\n",
    "    return x**2 - 3 *x + 2\n",
    "\n",
    "version_2 = lambda x: x ** 2 - 3 *x + 2\n",
    "\n",
    "np_version = np.vectorize(version_1)\n",
    "\n",
    "print(version_1(3.))\n",
    "print(version_2(3.))\n",
    "\n",
    "some_threes = np.zeros(10)\n",
    "some_threes[:] = 3.0 # -> Notice how we don't replace the numpy array with 3, but instead make all elements in it equal to three\n",
    "#some_threes = 3 -> This would delete the numpy array and now some_threes would be a single 3\n",
    "\n",
    "print(np_version(some_threes))"
   ]
  },
  {
   "cell_type": "markdown",
   "metadata": {
    "slideshow": {
     "slide_type": "subslide"
    }
   },
   "source": [
    "$$\\int_{\\pi}^x \\sin^2(s)\\,ds$$"
   ]
  },
  {
   "cell_type": "code",
   "execution_count": 8,
   "metadata": {
    "slideshow": {
     "slide_type": "fragment"
    }
   },
   "outputs": [
    {
     "name": "stdout",
     "output_type": "stream",
     "text": [
      "1.5707963267948966\n"
     ]
    }
   ],
   "source": [
    "from scipy.integrate import quad\n",
    "import numpy as np\n",
    "from math import pi\n",
    "\n",
    "def integrate_sin2(x):\n",
    "    ans, err = quad(lambda s: np.sin(s) ** 2, pi, x)\n",
    "    return ans\n",
    "    \n",
    "print(integrate_sin2(2 * pi))"
   ]
  },
  {
   "cell_type": "markdown",
   "metadata": {
    "slideshow": {
     "slide_type": "subslide"
    }
   },
   "source": [
    "2 Vectors, $\\vec{x}$ and $\\vec{y}$, where one component of $\\vec{x}$ is changing and we want to know the distance between the two vectors."
   ]
  },
  {
   "cell_type": "code",
   "execution_count": 9,
   "metadata": {
    "slideshow": {
     "slide_type": "fragment"
    }
   },
   "outputs": [
    {
     "name": "stdout",
     "output_type": "stream",
     "text": [
      "5.408326913195984\n"
     ]
    }
   ],
   "source": [
    "from math import sqrt\n",
    "\n",
    "def distance(x, y):\n",
    "    sum_sq = np.sum((x - y)**2)\n",
    "    return sqrt(sum_sq)\n",
    "\n",
    "def my_distance(s):\n",
    "    x = np.zeros(3)\n",
    "    y = np.zeros(3)\n",
    "    x[0] = 2.0\n",
    "    x[1] = s\n",
    "    x[2] = -3.5\n",
    "    y[0] = 1.0\n",
    "    y[1] = -3.0\n",
    "    y[2] = 0.0\n",
    "    return distance(x, y)\n",
    "\n",
    "print(my_distance(1))"
   ]
  },
  {
   "cell_type": "markdown",
   "metadata": {
    "slideshow": {
     "slide_type": "subslide"
    }
   },
   "source": [
    "Incorrect Examples\n",
    "----"
   ]
  },
  {
   "cell_type": "markdown",
   "metadata": {
    "slideshow": {
     "slide_type": "fragment"
    }
   },
   "source": [
    "### No Return Value"
   ]
  },
  {
   "cell_type": "code",
   "execution_count": 10,
   "metadata": {
    "slideshow": {
     "slide_type": "-"
    }
   },
   "outputs": [
    {
     "name": "stdout",
     "output_type": "stream",
     "text": [
      "None\n"
     ]
    }
   ],
   "source": [
    "def version_1(x):\n",
    "    x**2 - 3 *x + 2\n",
    "\n",
    "print(version_1(3.))"
   ]
  },
  {
   "cell_type": "markdown",
   "metadata": {
    "slideshow": {
     "slide_type": "subslide"
    }
   },
   "source": [
    "### Bad Return Value"
   ]
  },
  {
   "cell_type": "code",
   "execution_count": 11,
   "metadata": {},
   "outputs": [
    {
     "name": "stdout",
     "output_type": "stream",
     "text": [
      "(1.5707963267948966, 1.743934249004316e-14)\n"
     ]
    }
   ],
   "source": [
    "def integrate_sin2(x):\n",
    "    return quad(lambda s: np.sin(s) ** 2, pi, x)\n",
    "\n",
    "print(integrate_sin2(2 * pi))"
   ]
  },
  {
   "cell_type": "markdown",
   "metadata": {
    "slideshow": {
     "slide_type": "subslide"
    }
   },
   "source": [
    "### Too many arguments"
   ]
  },
  {
   "cell_type": "code",
   "execution_count": 12,
   "metadata": {
    "scrolled": true
   },
   "outputs": [
    {
     "ename": "TypeError",
     "evalue": "distance() missing 1 required positional argument: 'y'",
     "output_type": "error",
     "traceback": [
      "\u001b[0;31m---------------------------------------------------------------------------\u001b[0m",
      "\u001b[0;31mTypeError\u001b[0m                                 Traceback (most recent call last)",
      "\u001b[0;32m<ipython-input-12-6fd995bbf352>\u001b[0m in \u001b[0;36m<module>\u001b[0;34m()\u001b[0m\n\u001b[1;32m      3\u001b[0m     \u001b[0;32mreturn\u001b[0m \u001b[0msqrt\u001b[0m\u001b[0;34m(\u001b[0m\u001b[0msum_sq\u001b[0m\u001b[0;34m)\u001b[0m\u001b[0;34m\u001b[0m\u001b[0m\n\u001b[1;32m      4\u001b[0m \u001b[0;34m\u001b[0m\u001b[0m\n\u001b[0;32m----> 5\u001b[0;31m \u001b[0mprint\u001b[0m\u001b[0;34m(\u001b[0m\u001b[0mdistance\u001b[0m\u001b[0;34m(\u001b[0m\u001b[0;36m1\u001b[0m\u001b[0;34m)\u001b[0m\u001b[0;34m)\u001b[0m\u001b[0;34m\u001b[0m\u001b[0m\n\u001b[0m",
      "\u001b[0;31mTypeError\u001b[0m: distance() missing 1 required positional argument: 'y'"
     ]
    }
   ],
   "source": [
    "def distance(x, y):\n",
    "    sum_sq = np.sum((x - y)**2)\n",
    "    return sqrt(sum_sq)\n",
    "\n",
    "print(distance(1))"
   ]
  },
  {
   "cell_type": "markdown",
   "metadata": {
    "slideshow": {
     "slide_type": "slide"
    }
   },
   "source": [
    "Let's return to our example from above:\n",
    "\n",
    "$$ \\int_0^x e^{-s^2}\\,ds = \\frac{1}{2}$$\n",
    "\n",
    "Find $x$"
   ]
  },
  {
   "cell_type": "code",
   "execution_count": 13,
   "metadata": {
    "slideshow": {
     "slide_type": "subslide"
    }
   },
   "outputs": [
    {
     "name": "stdout",
     "output_type": "stream",
     "text": [
      "-4.5175088239502025e-29\n"
     ]
    }
   ],
   "source": [
    "#note still wrong\n",
    "def equation(x):\n",
    "    ans, err = quad(lambda s: np.exp(-s**2), 0, x)\n",
    "    return ans\n",
    "root = newton(lambda x: equation(x), x0=0)\n",
    "print(root)"
   ]
  },
  {
   "cell_type": "code",
   "execution_count": 14,
   "metadata": {
    "slideshow": {
     "slide_type": "subslide"
    }
   },
   "outputs": [
    {
     "data": {
      "text/plain": [
       "-4.5175088239502025e-29"
      ]
     },
     "execution_count": 14,
     "metadata": {},
     "output_type": "execute_result"
    }
   ],
   "source": [
    "equation(root)"
   ]
  },
  {
   "cell_type": "markdown",
   "metadata": {
    "slideshow": {
     "slide_type": "subslide"
    }
   },
   "source": [
    "We forgot to rearrange the equation to be equal to $0$"
   ]
  },
  {
   "cell_type": "code",
   "execution_count": 15,
   "metadata": {
    "slideshow": {
     "slide_type": "fragment"
    }
   },
   "outputs": [
    {
     "name": "stdout",
     "output_type": "stream",
     "text": [
      "0.5510394276090266 0.49999999999999994\n"
     ]
    }
   ],
   "source": [
    "root = newton(lambda x: equation(x) - 0.5, x0=0)\n",
    "print(root, equation(root))"
   ]
  },
  {
   "cell_type": "markdown",
   "metadata": {
    "slideshow": {
     "slide_type": "subslide"
    }
   },
   "source": [
    "Scope\n",
    "----\n",
    "\n",
    "Scope means the set of variables and functions which are defined and accessible in your code"
   ]
  },
  {
   "cell_type": "code",
   "execution_count": 16,
   "metadata": {
    "collapsed": true,
    "slideshow": {
     "slide_type": "fragment"
    }
   },
   "outputs": [],
   "source": [
    "x = 4\n",
    "y = 2\n",
    "\n",
    "#Right now, there is x,y and all other functions/variables defined or imported above in the scope"
   ]
  },
  {
   "cell_type": "markdown",
   "metadata": {
    "slideshow": {
     "slide_type": "subslide"
    }
   },
   "source": [
    "Scopes nest\n",
    "----"
   ]
  },
  {
   "cell_type": "code",
   "execution_count": 17,
   "metadata": {
    "collapsed": true,
    "slideshow": {
     "slide_type": "fragment"
    }
   },
   "outputs": [],
   "source": [
    "x = 4\n",
    "y = 2\n",
    "#Here, I have x and y in scope\n",
    "def scope_example():\n",
    "    z = 2\n",
    "    #Here, I have x,y and z in scope\n",
    "    \n",
    "#Here I again have only x and y in scope"
   ]
  },
  {
   "cell_type": "code",
   "execution_count": 18,
   "metadata": {
    "scrolled": true,
    "slideshow": {
     "slide_type": "subslide"
    }
   },
   "outputs": [
    {
     "name": "stdout",
     "output_type": "stream",
     "text": [
      "2 Before function\n",
      "25 Inside function\n",
      "2 After Function\n"
     ]
    }
   ],
   "source": [
    "x = 4 \n",
    "y = 2\n",
    "print(y,\"Before function\")\n",
    "def scope_example():\n",
    "    y = 25 #This is a new version of y that exists only in this scope\n",
    "    print(y, \"Inside function\")\n",
    "scope_example()\n",
    "print(y, \"After Function\")"
   ]
  },
  {
   "cell_type": "code",
   "execution_count": 19,
   "metadata": {
    "slideshow": {
     "slide_type": "subslide"
    }
   },
   "outputs": [
    {
     "name": "stdout",
     "output_type": "stream",
     "text": [
      "[2] Before function\n",
      "[25] Inside function\n",
      "[25] After Function\n"
     ]
    }
   ],
   "source": [
    "x = 4 \n",
    "y = [2]\n",
    "print(y,\"Before function\")\n",
    "def scope_example():\n",
    "    y[0] = 25 #Here I'm not creating a y, but modifying y\n",
    "    print(y, \"Inside function\")\n",
    "scope_example()\n",
    "print(y, \"After Function\")"
   ]
  },
  {
   "cell_type": "markdown",
   "metadata": {
    "slideshow": {
     "slide_type": "subslide"
    }
   },
   "source": [
    "Things to remember about scope:\n",
    "\n",
    "1. Scopes nest, so that you can access things above your scope\n",
    "2. You can modify variables from any scope you can see, but ones you create disappear outside of the scope"
   ]
  },
  {
   "cell_type": "markdown",
   "metadata": {
    "slideshow": {
     "slide_type": "slide"
    }
   },
   "source": [
    "Returning to Optimization\n",
    "===="
   ]
  },
  {
   "cell_type": "markdown",
   "metadata": {
    "slideshow": {
     "slide_type": "slide"
    }
   },
   "source": [
    "Applications of Optimization\n",
    "===\n",
    "\n",
    "1. Solving non-linear equations\n",
    "2. Solving systems of equations\n",
    "3. Optimizing equations with or without constraints\n",
    "4. Fitting models to data"
   ]
  },
  {
   "cell_type": "markdown",
   "metadata": {
    "slideshow": {
     "slide_type": "slide"
    }
   },
   "source": [
    "Choosing which method to use\n",
    "----\n",
    "\n",
    "There are five things to consider when doing optimization:\n",
    "\n",
    "1. Is it 1 or N dimensions?\n",
    "2. Are you minimizing or root-finding?\n",
    "3. Are there constraints?\n",
    "4. Are there bounds?\n",
    "5. Is it convex or non-convex?"
   ]
  },
  {
   "cell_type": "markdown",
   "metadata": {
    "slideshow": {
     "slide_type": "slide"
    }
   },
   "source": [
    "Identifying Convexity\n",
    "====\n",
    "\n",
    "If a problem has more than one minimum (derivative is 0), then the problem is non-convex. **The opposite of convex is non-convex. A concave function can be made convex with a negative sign. A non-convex function cannot be made convex**."
   ]
  },
  {
   "cell_type": "markdown",
   "metadata": {
    "slideshow": {
     "slide_type": "fragment"
    }
   },
   "source": [
    "Knowing about convexity can come from:\n",
    "\n",
    "* Plots\n",
    "* Running convex optimization in two starting positions and getting different minimums\n",
    "* Knowing something specific about the problem"
   ]
  },
  {
   "cell_type": "markdown",
   "metadata": {
    "slideshow": {
     "slide_type": "fragment"
    }
   },
   "source": [
    "Consider a function with two minimums:"
   ]
  },
  {
   "cell_type": "code",
   "execution_count": 20,
   "metadata": {
    "collapsed": true,
    "slideshow": {
     "slide_type": "subslide"
    }
   },
   "outputs": [],
   "source": [
    "def two_well(x):\n",
    "    if x < 0.125:\n",
    "        return (x + 2) ** 2\n",
    "    if x >= 0.125:\n",
    "        return (x - 2) ** 2 + 1\n",
    "    \n",
    "np_two_well = np.frompyfunc(two_well, 1, 1)"
   ]
  },
  {
   "cell_type": "code",
   "execution_count": 21,
   "metadata": {
    "slideshow": {
     "slide_type": "subslide"
    }
   },
   "outputs": [
    {
     "data": {
      "image/png": "[encoded data removed]",
      "text/plain": [
       "<Figure size 432x288 with 1 Axes>"
      ]
     },
     "metadata": {},
     "output_type": "display_data"
    }
   ],
   "source": [
    "x = np.linspace(-4, 4, 1000)\n",
    "plt.plot(x, np_two_well(x))\n",
    "plt.show()"
   ]
  },
  {
   "cell_type": "markdown",
   "metadata": {
    "slideshow": {
     "slide_type": "slide"
    }
   },
   "source": [
    "BFGS Optimization - Minimization\n",
    "====\n",
    "Broyden–Fletcher–Goldfarb–Shanno"
   ]
  },
  {
   "cell_type": "markdown",
   "metadata": {
    "slideshow": {
     "slide_type": "fragment"
    }
   },
   "source": [
    "BFGS\n",
    "====\n",
    "\n",
    "**Type:** Minimization\n",
    "\n",
    "**Discrete/Continuous:** Continuous\n",
    "\n",
    "**Dimensions:** N\n",
    "\n",
    "**Derivative:** optional\n",
    "\n",
    "**Non-Convex:** not recommended\n",
    "\n",
    "**Python:** `minimize` if no constraints or bounds are given"
   ]
  },
  {
   "cell_type": "markdown",
   "metadata": {
    "slideshow": {
     "slide_type": "subslide"
    }
   },
   "source": [
    "Nomenclature\n",
    "----\n",
    "\n",
    "In optimization, you have a function called the **objective function**. That's what you're minimizing. It always returns a single value. It is sometimes called the **fit**, the **error**, the **residual**, or the **penalty**."
   ]
  },
  {
   "cell_type": "code",
   "execution_count": 22,
   "metadata": {
    "slideshow": {
     "slide_type": "subslide"
    }
   },
   "outputs": [
    {
     "data": {
      "image/png": "[encoded data removed]",
      "text/plain": [
       "<Figure size 432x288 with 1 Axes>"
      ]
     },
     "metadata": {},
     "output_type": "display_data"
    }
   ],
   "source": [
    "def obj(x):\n",
    "    return x**2\n",
    "\n",
    "x = np.linspace(-1,1,100)\n",
    "plt.plot(x, obj(x))\n",
    "plt.show()"
   ]
  },
  {
   "cell_type": "code",
   "execution_count": 23,
   "metadata": {
    "slideshow": {
     "slide_type": "subslide"
    }
   },
   "outputs": [
    {
     "data": {
      "text/plain": [
       "      fun: 2.5388964258140254e-16\n",
       " hess_inv: array([[ 0.5]])\n",
       "      jac: array([  4.67689909e-08])\n",
       "  message: 'Optimization terminated successfully.'\n",
       "     nfev: 9\n",
       "      nit: 2\n",
       "     njev: 3\n",
       "   status: 0\n",
       "  success: True\n",
       "        x: array([  1.59339149e-08])"
      ]
     },
     "execution_count": 23,
     "metadata": {},
     "output_type": "execute_result"
    }
   ],
   "source": [
    "from scipy.optimize import minimize\n",
    "\n",
    "minimize(obj, x0=3)"
   ]
  },
  {
   "cell_type": "markdown",
   "metadata": {
    "slideshow": {
     "slide_type": "slide"
    }
   },
   "source": [
    "Minimize Return value\n",
    "----\n",
    "         fun: The value of the function at the minimum\n",
    "    hess_inv: The inverse of the the Hessian\n",
    "         jac: The value of the Jacobian\n",
    "     message: A string describing what happened\n",
    "        nfev: Number of function evaluations\n",
    "         nit: Number of iterations of the x point\n",
    "        njev: Number of times it computed the Jacobian\n",
    "      status: The single digit message (0 = success, != 0 some error)\n",
    "     success: Boolean indicating success\n",
    "           x: The minimum x"
   ]
  },
  {
   "cell_type": "markdown",
   "metadata": {
    "slideshow": {
     "slide_type": "slide"
    }
   },
   "source": [
    "Objective Functions\n",
    "===\n",
    "\n",
    "Be careful that your objective function is *convex* and it's maximum isn't at $\\infty$ or $-\\infty$. "
   ]
  },
  {
   "cell_type": "markdown",
   "metadata": {
    "slideshow": {
     "slide_type": "subslide"
    }
   },
   "source": [
    "A good objective function\n",
    "----\n",
    "\n",
    "Minimize the following:\n",
    "\n",
    "$$f(x) = \\frac{(x - 4)^2}{2} + \\frac{(x - 2)^2}{4}$$ "
   ]
  },
  {
   "cell_type": "code",
   "execution_count": 25,
   "metadata": {
    "slideshow": {
     "slide_type": "subslide"
    }
   },
   "outputs": [
    {
     "data": {
      "image/png": "[encoded data removed]",
      "text/plain": [
       "<Figure size 432x288 with 1 Axes>"
      ]
     },
     "metadata": {},
     "output_type": "display_data"
    }
   ],
   "source": [
    "def f(x):\n",
    "    return ((x-4)**2)/2+((x-2)**2)/4\n",
    "x = np.linspace(-10, 10, 100)\n",
    "plt.plot(x, f(x))\n",
    "plt.show()"
   ]
  },
  {
   "cell_type": "code",
   "execution_count": 48,
   "metadata": {
    "slideshow": {
     "slide_type": "subslide"
    }
   },
   "outputs": [
    {
     "name": "stdout",
     "output_type": "stream",
     "text": [
      "the minimum value occurs at [ 3.33333336] and is 0.6666666666666674\n"
     ]
    }
   ],
   "source": [
    "result = minimize(f, x0=0)\n",
    "print(f'the minimum value occurs at {result.x} and is {result.fun}')"
   ]
  },
  {
   "cell_type": "markdown",
   "metadata": {
    "slideshow": {
     "slide_type": "subslide"
    }
   },
   "source": [
    "A bad objective function\n",
    "----\n",
    "\n",
    "Minimize the following:\n",
    "\n",
    "$$\n",
    "f(x) = \\frac{(x - 4)} { 2 }\n",
    "$$"
   ]
  },
  {
   "cell_type": "markdown",
   "metadata": {
    "slideshow": {
     "slide_type": "fragment"
    }
   },
   "source": [
    "The minimum is at $-\\infty$!"
   ]
  },
  {
   "cell_type": "code",
   "execution_count": 47,
   "metadata": {
    "slideshow": {
     "slide_type": "subslide"
    }
   },
   "outputs": [
    {
     "name": "stdout",
     "output_type": "stream",
     "text": [
      "the minimum value occurs at [ -1.78956970e+08] and is -89478487.25\n"
     ]
    }
   ],
   "source": [
    "result = minimize(lambda x: (x - 4) / 2, x0=0)\n",
    "print(f'the minimum value occurs at {result.x} and is {result.fun}')"
   ]
  },
  {
   "cell_type": "markdown",
   "metadata": {
    "slideshow": {
     "slide_type": "subslide"
    }
   },
   "source": [
    "A good objective function but bad `x0`\n",
    "---\n",
    "\n",
    "Minimize the following function\n",
    "\n",
    "$$4 \\left[ r^{-12} - r^{-6}\\right]$$"
   ]
  },
  {
   "cell_type": "code",
   "execution_count": 49,
   "metadata": {
    "slideshow": {
     "slide_type": "fragment"
    }
   },
   "outputs": [
    {
     "name": "stdout",
     "output_type": "stream",
     "text": [
      "the minimum is at [ 0.]\n"
     ]
    },
    {
     "name": "stderr",
     "output_type": "stream",
     "text": [
      "/opt/conda/lib/python3.6/site-packages/ipykernel_launcher.py:1: RuntimeWarning: divide by zero encountered in power\n",
      "  \"\"\"Entry point for launching an IPython kernel.\n",
      "/opt/conda/lib/python3.6/site-packages/ipykernel_launcher.py:1: RuntimeWarning: invalid value encountered in subtract\n",
      "  \"\"\"Entry point for launching an IPython kernel.\n"
     ]
    }
   ],
   "source": [
    "result = minimize(lambda r: 4 * (r**(-12) - r**(-6)), x0=0)\n",
    "print(f'the minimum is at {result.x}')"
   ]
  },
  {
   "cell_type": "markdown",
   "metadata": {
    "slideshow": {
     "slide_type": "subslide"
    }
   },
   "source": [
    "*Our initial value was not in the domain!*"
   ]
  },
  {
   "cell_type": "code",
   "execution_count": 40,
   "metadata": {
    "slideshow": {
     "slide_type": "subslide"
    }
   },
   "outputs": [
    {
     "data": {
      "image/png": "[encoded data removed]",
      "text/plain": [
       "<Figure size 432x288 with 1 Axes>"
      ]
     },
     "metadata": {},
     "output_type": "display_data"
    }
   ],
   "source": [
    "r = np.linspace(0.9, 2, 100)\n",
    "y = 4 * (r**(-12) - r**(-6))\n",
    "plt.plot(r, y)\n",
    "plt.show()"
   ]
  },
  {
   "cell_type": "code",
   "execution_count": 50,
   "metadata": {
    "slideshow": {
     "slide_type": "subslide"
    }
   },
   "outputs": [
    {
     "name": "stdout",
     "output_type": "stream",
     "text": [
      "the minimum is at [ 1.12246208] and its value is -0.9999999999999768\n"
     ]
    }
   ],
   "source": [
    "result = minimize(lambda r: 4 * (r**(-12) - r**(-6)), x0=1)\n",
    "print(f'the minimum is at {result.x} and its value is {result.fun}')"
   ]
  },
  {
   "cell_type": "markdown",
   "metadata": {
    "slideshow": {
     "slide_type": "subslide"
    }
   },
   "source": [
    "Maximizing\n",
    "---\n",
    "\n",
    "In order to maximzie a function, just add a minus sign"
   ]
  },
  {
   "cell_type": "markdown",
   "metadata": {
    "slideshow": {
     "slide_type": "fragment"
    }
   },
   "source": [
    "Maximize the following function:\n",
    "\n",
    "$$\n",
    "-\\left[x - \\cos(x)\\right]^2\n",
    "$$"
   ]
  },
  {
   "cell_type": "code",
   "execution_count": 54,
   "metadata": {
    "slideshow": {
     "slide_type": "subslide"
    }
   },
   "outputs": [
    {
     "name": "stdout",
     "output_type": "stream",
     "text": [
      "the maximum is at [-0.7390852]\n"
     ]
    }
   ],
   "source": [
    "#place - sign to make it a maxmimization problem\n",
    "result = minimize(lambda x: (x - np.cos(x))**2, x0=1)\n",
    "print(f'the maximum is at {maximum}')"
   ]
  },
  {
   "cell_type": "markdown",
   "metadata": {
    "slideshow": {
     "slide_type": "subslide"
    }
   },
   "source": [
    "Multiple Dimensions\n",
    "----\n",
    "\n",
    "Just indicate multiple dimensions by using a multidimensional `x0`. Note that your $x$ becomes a vector!"
   ]
  },
  {
   "cell_type": "markdown",
   "metadata": {
    "slideshow": {
     "slide_type": "fragment"
    }
   },
   "source": [
    "Minimize the following:\n",
    "\n",
    "$$\n",
    "f(x) = \\frac{(x - 4)^2} { 2 } + \\frac{(y + 3)^2} { 5 }\n",
    "$$"
   ]
  },
  {
   "cell_type": "code",
   "execution_count": 57,
   "metadata": {
    "slideshow": {
     "slide_type": "subslide"
    }
   },
   "outputs": [
    {
     "name": "stdout",
     "output_type": "stream",
     "text": [
      "maximum occurs when x = 3.999999680451366 and y = -3.0000083683518133\n"
     ]
    }
   ],
   "source": [
    "result = minimize(lambda x: (x[0] - 4)**2 / 2 + (x[1] + 3)**2 / 5, x0=[0,0])\n",
    "print(f'maximum occurs when x = {result.x[0]} and y = {result.x[1]}')"
   ]
  },
  {
   "cell_type": "markdown",
   "metadata": {
    "slideshow": {
     "slide_type": "slide"
    }
   },
   "source": [
    "Identifying Convexity for Minimization - Example\n",
    "----\n",
    "\n",
    "The best ways to identify convexity are:\n",
    "\n",
    "* plot it\n",
    "* try optimizing in multiple starting positions"
   ]
  },
  {
   "cell_type": "code",
   "execution_count": 58,
   "metadata": {
    "scrolled": false,
    "slideshow": {
     "slide_type": "subslide"
    }
   },
   "outputs": [
    {
     "data": {
      "image/png": "[encoded data removed]",
      "text/plain": [
       "<Figure size 432x288 with 1 Axes>"
      ]
     },
     "metadata": {},
     "output_type": "display_data"
    }
   ],
   "source": [
    "x = np.linspace(-1, 1, 1000)\n",
    "plt.plot(x,  2 * x ** 3 - 0 * x **2  - x)\n",
    "plt.show()"
   ]
  },
  {
   "cell_type": "code",
   "execution_count": 59,
   "metadata": {
    "scrolled": true,
    "slideshow": {
     "slide_type": "subslide"
    }
   },
   "outputs": [
    {
     "data": {
      "text/plain": [
       "      fun: -0.27216552697590846\n",
       " hess_inv: array([[ 0.20398928]])\n",
       "      jac: array([ -1.11758709e-08])\n",
       "  message: 'Optimization terminated successfully.'\n",
       "     nfev: 24\n",
       "      nit: 5\n",
       "     njev: 8\n",
       "   status: 0\n",
       "  success: True\n",
       "        x: array([ 0.40824828])"
      ]
     },
     "execution_count": 59,
     "metadata": {},
     "output_type": "execute_result"
    }
   ],
   "source": [
    "from scipy.optimize import minimize\n",
    "minimize(lambda x:  2 * x ** 3 - 0 * x **2  - x, x0=0.05)"
   ]
  },
  {
   "cell_type": "code",
   "execution_count": 60,
   "metadata": {
    "scrolled": false,
    "slideshow": {
     "slide_type": "subslide"
    }
   },
   "outputs": [
    {
     "data": {
      "image/png": "[encoded data removed]",
      "text/plain": [
       "<Figure size 432x288 with 1 Axes>"
      ]
     },
     "metadata": {},
     "output_type": "display_data"
    }
   ],
   "source": [
    "x = np.linspace(-1, 1, 1000)\n",
    "plt.plot(x,  2 * x ** 3 - 0 * x **2  - x)\n",
    "plt.show()"
   ]
  },
  {
   "cell_type": "code",
   "execution_count": 61,
   "metadata": {
    "scrolled": false,
    "slideshow": {
     "slide_type": "subslide"
    }
   },
   "outputs": [
    {
     "data": {
      "text/plain": [
       "      fun: -1.146240476075504e+25\n",
       " hess_inv: array([[1]])\n",
       "      jac: array([ 0.])\n",
       "  message: 'Optimization terminated successfully.'\n",
       "     nfev: 48\n",
       "      nit: 1\n",
       "     njev: 16\n",
       "   status: 0\n",
       "  success: True\n",
       "        x: array([ -1.78956955e+08])"
      ]
     },
     "execution_count": 61,
     "metadata": {},
     "output_type": "execute_result"
    }
   ],
   "source": [
    "from scipy.optimize import minimize\n",
    "minimize(lambda x:  2 * x ** 3 - 0 * x **2  - x, x0=-0.5)"
   ]
  },
  {
   "cell_type": "markdown",
   "metadata": {
    "slideshow": {
     "slide_type": "slide"
    }
   },
   "source": [
    "Powell hybrid method\n",
    "====\n",
    "\n",
    "**Type:** Root finding\n",
    "\n",
    "**Discrete/Continuous:** Continuous\n",
    "\n",
    "**Dimensions:** N\n",
    "\n",
    "**Derivative:** optional\n",
    "\n",
    "**Non-Convex:** not recommended\n",
    "\n",
    "**Python:** `root` unless `method` argument specifies a different method"
   ]
  },
  {
   "cell_type": "markdown",
   "metadata": {
    "slideshow": {
     "slide_type": "slide"
    }
   },
   "source": [
    "1D Example\n",
    "---\n",
    "\n",
    "This is exactly like `newton` from above. Solve this equation:\n",
    "\n",
    "$$\n",
    "\\cos x + \\sin x = x\n",
    "$$"
   ]
  },
  {
   "cell_type": "code",
   "execution_count": 65,
   "metadata": {
    "slideshow": {
     "slide_type": "subslide"
    }
   },
   "outputs": [
    {
     "name": "stdout",
     "output_type": "stream",
     "text": [
      "    fjac: array([[-1.]])\n",
      "     fun: array([  2.22044605e-16])\n",
      " message: 'The solution converged.'\n",
      "    nfev: 8\n",
      "     qtf: array([ -2.42716958e-12])\n",
      "       r: array([ 1.64467312])\n",
      "  status: 1\n",
      " success: True\n",
      "       x: array([ 1.25872818])\n"
     ]
    }
   ],
   "source": [
    "from scipy.optimize import root\n",
    "#rearranged equation so all terms on one side\n",
    "result = root(lambda x: np.cos(x) + np.sin(x) - x, x0=1)\n",
    "print(result)"
   ]
  },
  {
   "cell_type": "markdown",
   "metadata": {
    "slideshow": {
     "slide_type": "subslide"
    }
   },
   "source": [
    "The result type is like what we saw for minimize. Similar terms are here, including the root and the value of the function at the root. Notice it's not exactly $0$ at the root."
   ]
  },
  {
   "cell_type": "code",
   "execution_count": 66,
   "metadata": {
    "slideshow": {
     "slide_type": "fragment"
    }
   },
   "outputs": [
    {
     "name": "stdout",
     "output_type": "stream",
     "text": [
      "[  2.22044605e-16]\n"
     ]
    }
   ],
   "source": [
    "x = result.x \n",
    "print(np.cos(x) + np.sin(x) - x)"
   ]
  },
  {
   "cell_type": "markdown",
   "metadata": {
    "slideshow": {
     "slide_type": "subslide"
    }
   },
   "source": [
    "Solve the following system of equations:\n",
    "$$ 3 x^2 - 2 y = 4$$\n",
    "$$ x - 4 y ^ 2 = -2$$"
   ]
  },
  {
   "cell_type": "code",
   "execution_count": 72,
   "metadata": {
    "slideshow": {
     "slide_type": "subslide"
    }
   },
   "outputs": [
    {
     "data": {
      "text/plain": [
       "    fjac: array([[-0.99129609, -0.13165126],\n",
       "       [ 0.13165126, -0.99129609]])\n",
       "     fun: array([  2.87769808e-13,   3.16324744e-12])\n",
       " message: 'The solution converged.'\n",
       "    nfev: 10\n",
       "     qtf: array([  4.70588464e-09,   2.08104163e-08])\n",
       "       r: array([-8.45721872,  2.95677276,  7.06016501])\n",
       "  status: 1\n",
       " success: True\n",
       "       x: array([ 1.39555277,  0.92135129])"
      ]
     },
     "execution_count": 72,
     "metadata": {},
     "output_type": "execute_result"
    }
   ],
   "source": [
    "def sys(v):\n",
    "    #I'm using v here to distinguish from the x in the equations\n",
    "    #extract x and y\n",
    "    x = v[0]\n",
    "    y = v[1]\n",
    "    #compute equations\n",
    "    eq1 = 3 * x ** 2 - 2 * y - 4\n",
    "    eq2 = x - 4 * y**2 + 2\n",
    "    #pack into list\n",
    "    sys_eq = [eq1, eq2]\n",
    "    return sys_eq\n",
    "root(sys, x0=[1,1])"
   ]
  },
  {
   "cell_type": "markdown",
   "metadata": {
    "slideshow": {
     "slide_type": "subslide"
    }
   },
   "source": [
    "So the answer is $x = 1.40,\\: y = 0.921$"
   ]
  },
  {
   "cell_type": "markdown",
   "metadata": {
    "slideshow": {
     "slide_type": "subslide"
    }
   },
   "source": [
    "You should not ignore the information in the output of root. Imagine this small modification:\n",
    "\n",
    "$$ 3 x^2 - 2 y^2 = 4$$\n",
    "$$ x^3 - 4 y = -2$$"
   ]
  },
  {
   "cell_type": "code",
   "execution_count": 74,
   "metadata": {
    "slideshow": {
     "slide_type": "subslide"
    }
   },
   "outputs": [
    {
     "data": {
      "text/plain": [
       "    fjac: array([[-0.79311064, -0.60907759],\n",
       "       [ 0.60907759, -0.79311064]])\n",
       "     fun: array([-0.31652211,  0.4128055 ])\n",
       " message: 'The iteration is not making good progress, as measured by the \\n  improvement from the last ten iterations.'\n",
       "    nfev: 30\n",
       "     qtf: array([ -3.93523929e-04,  -5.20186955e-01])\n",
       "       r: array([ -1.16194697e+01,   6.56882367e+00,  -1.16411656e-03])\n",
       "  status: 5\n",
       " success: False\n",
       "       x: array([ 1.53592084,  1.30262823])"
      ]
     },
     "execution_count": 74,
     "metadata": {},
     "output_type": "execute_result"
    }
   ],
   "source": [
    "def sys2(v):\n",
    "    #I'm using v here to distinguish from the x in the equations\n",
    "    #extract x and y\n",
    "    x = v[0]\n",
    "    y = v[1]\n",
    "    #compute equations\n",
    "    eq1 = 3 * x ** 2 - 2 * y**2 - 4\n",
    "    eq2 = x**3 - 4 * y + 2\n",
    "    #pack into list\n",
    "    sys_eq = [eq1, eq2]\n",
    "    return sys_eq\n",
    "root(sys2, x0=[1,1])"
   ]
  },
  {
   "cell_type": "markdown",
   "metadata": {
    "slideshow": {
     "slide_type": "subslide"
    }
   },
   "source": [
    "If you did not read the message or status, you might believe the method succeeded. "
   ]
  },
  {
   "cell_type": "markdown",
   "metadata": {
    "slideshow": {
     "slide_type": "subslide"
    }
   },
   "source": [
    "More compact version:"
   ]
  },
  {
   "cell_type": "code",
   "execution_count": 77,
   "metadata": {
    "slideshow": {
     "slide_type": "fragment"
    }
   },
   "outputs": [
    {
     "data": {
      "text/plain": [
       "    fjac: array([[-0.99129609, -0.13165126],\n",
       "       [ 0.13165126, -0.99129609]])\n",
       "     fun: array([  2.87769808e-13,   3.16324744e-12])\n",
       " message: 'The solution converged.'\n",
       "    nfev: 10\n",
       "     qtf: array([  4.70588464e-09,   2.08104163e-08])\n",
       "       r: array([-8.45721872,  2.95677276,  7.06016501])\n",
       "  status: 1\n",
       " success: True\n",
       "       x: array([ 1.39555277,  0.92135129])"
      ]
     },
     "execution_count": 77,
     "metadata": {},
     "output_type": "execute_result"
    }
   ],
   "source": [
    "root(lambda x: [3 * x[0] ** 2 - 2 * x[1] - 4, x[0] - 4 * x[1] ** 2 + 2], x0=[1,1])"
   ]
  },
  {
   "cell_type": "markdown",
   "metadata": {
    "slideshow": {
     "slide_type": "subslide"
    }
   },
   "source": [
    "Importance of starting position\n",
    "----\n",
    "\n",
    "By the way, there are two roots to this function!"
   ]
  },
  {
   "cell_type": "code",
   "execution_count": 78,
   "metadata": {
    "slideshow": {
     "slide_type": "subslide"
    }
   },
   "outputs": [
    {
     "data": {
      "text/plain": [
       "    fjac: array([[ 0.98296038,  0.18381755],\n",
       "       [-0.18381755,  0.98296038]])\n",
       "     fun: array([  2.66453526e-15,  -4.44089210e-16])\n",
       " message: 'The solution converged.'\n",
       "    nfev: 16\n",
       "     qtf: array([  2.87224221e-12,  -7.25968027e-13])\n",
       "       r: array([ 5.41242052, -0.44135572,  6.9600742 ])\n",
       "  status: 1\n",
       " success: True\n",
       "       x: array([ 0.87635927, -0.84799164])"
      ]
     },
     "execution_count": 78,
     "metadata": {},
     "output_type": "execute_result"
    }
   ],
   "source": [
    "root(lambda x: [3 * x[0] ** 2 - 2 * x[1] - 4, x[0] - 4 * x[1] ** 2 + 2], x0=[0, 0])"
   ]
  }
 ],
 "metadata": {
  "celltoolbar": "Slideshow",
  "kernelspec": {
   "display_name": "Python 3",
   "language": "python",
   "name": "python3"
  },
  "language_info": {
   "codemirror_mode": {
    "name": "ipython",
    "version": 3
   },
   "file_extension": ".py",
   "mimetype": "text/x-python",
   "name": "python",
   "nbconvert_exporter": "python",
   "pygments_lexer": "ipython3",
   "version": "3.7.3"
  }
 },
 "nbformat": 4,
 "nbformat_minor": 1
}
