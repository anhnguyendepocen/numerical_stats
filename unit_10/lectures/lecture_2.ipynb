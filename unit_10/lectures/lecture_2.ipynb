{
 "cells": [
  {
   "cell_type": "markdown",
   "metadata": {
    "slideshow": {
     "slide_type": "slide"
    }
   },
   "source": [
    "Hypothesis Tests (Non-Parametric)\n",
    "====\n",
    "\n",
    "## Unit 10, Lecture 2\n",
    "\n",
    "*Numerical Methods and Statistics*\n",
    "\n",
    "----\n",
    "\n",
    "### Reading\n",
    "\n",
    "Langley: Pages 137-189, 199-211, 230-245\n",
    "\n",
    "----\n",
    "\n",
    "#### Prof. Andrew White, April 5 2018"
   ]
  },
  {
   "cell_type": "markdown",
   "metadata": {
    "slideshow": {
     "slide_type": "slide"
    }
   },
   "source": [
    "Goals:\n",
    "---\n",
    "\n",
    "1. Learn the difference between parametric statistics vs nonparametric statistics\n",
    "2. Be able to apply the following non-parametric hypothesis tests: Wilcoxon sum of ranks, Wilcoxon signed ranks, Spearman correlaction test\n",
    "3. Understand how to apply parametric hypothesis tests with discrete values"
   ]
  },
  {
   "cell_type": "code",
   "execution_count": 1,
   "metadata": {
    "slideshow": {
     "slide_type": "skip"
    }
   },
   "outputs": [],
   "source": [
    "import random\n",
    "import numpy as np\n",
    "import matplotlib.pyplot as plt\n",
    "from math import sqrt, pi, erf\n",
    "import scipy.stats as ss"
   ]
  },
  {
   "cell_type": "markdown",
   "metadata": {
    "slideshow": {
     "slide_type": "slide"
    }
   },
   "source": [
    "Detour: Parametric vs. Nonparametric Stastics\n",
    "===="
   ]
  },
  {
   "cell_type": "markdown",
   "metadata": {
    "slideshow": {
     "slide_type": "fragment"
    }
   },
   "source": [
    "**Parametric Statistics:** What we've seen before, where we do statistics by assuming the data follows some underlying probability distribution (like normal distribution). Sometimes this is a good assumpetion because of the CLT.\n",
    "\n",
    "**Nonparametric Statistics:** We do statistics without assuming an equation form for the underlying probability distribution. Typically harder to prove significance here because we have less information due to not assuming probability distribution."
   ]
  },
  {
   "cell_type": "markdown",
   "metadata": {
    "slideshow": {
     "slide_type": "subslide"
    }
   },
   "source": [
    "Nonparametric statistics are secret and not widely taught because people belive they are challenging to understand. This is true, but I don't think undergraduates completely understand probability measure spaces but it doesn't stop us from using them."
   ]
  },
  {
   "cell_type": "markdown",
   "metadata": {
    "slideshow": {
     "slide_type": "fragment"
    }
   },
   "source": [
    "*From here onwards, most tests will not assume normality and are nonparametric. You won't find these tests in most traditional statistics textbooks*"
   ]
  },
  {
   "cell_type": "markdown",
   "metadata": {
    "slideshow": {
     "slide_type": "fragment"
    }
   },
   "source": [
    "To do nonparametric statistics, one of the underlying principles is converting measurements into rankings."
   ]
  },
  {
   "cell_type": "code",
   "execution_count": 2,
   "metadata": {
    "slideshow": {
     "slide_type": "subslide"
    }
   },
   "outputs": [
    {
     "name": "stdout",
     "output_type": "stream",
     "text": [
      "[0.70148411 0.96522843 0.41747704 0.8159568  0.02398743 0.14613944\n",
      " 0.01542925 0.75959105 0.63014733 0.52986675]\n",
      "[ 7. 10.  4.  9.  2.  3.  1.  8.  6.  5.]\n"
     ]
    }
   ],
   "source": [
    "d = np.random.rand(10)\n",
    "print (d)\n",
    "print (ss.rankdata(d))"
   ]
  },
  {
   "cell_type": "markdown",
   "metadata": {
    "slideshow": {
     "slide_type": "slide"
    }
   },
   "source": [
    "Nonparametric Methods for Comparing Sets of Measurements\n",
    "===="
   ]
  },
  {
   "cell_type": "markdown",
   "metadata": {
    "slideshow": {
     "slide_type": "subslide"
    }
   },
   "source": [
    "Wilcoxon's Sum of Ranks Test\n",
    "====\n",
    "\n",
    "**Data Type:** Ranks\n",
    "\n",
    "**Compares:** Two sets of measurements. \n",
    "\n",
    "**Null Hypothesis:** The two sets of measurements are from the same distribution\n",
    "\n",
    "**Conditions:** Unmatched measurements. Unmatched the measurements aren't in pairs and you don't necessarily have the same number\n",
    "\n",
    "**Related Test 1:** Wilcoxon's Signed Ranks Test for matched data measuring one thing (i.e, temperature)\n",
    "\n",
    "**Related Test 2:** Spearman's Correlation Test for matched data measuring two things (i.e., temperature and pressure)\n",
    "\n",
    "**Python:** `scipy.stats.ranksums`\n",
    "\n",
    "**Hints:** Make sure all data is in the same units!"
   ]
  },
  {
   "cell_type": "markdown",
   "metadata": {
    "slideshow": {
     "slide_type": "slide"
    }
   },
   "source": [
    "Example: Were HW 1 and HW 2 from the same distribution?\n",
    "===="
   ]
  },
  {
   "cell_type": "code",
   "execution_count": 3,
   "metadata": {
    "slideshow": {
     "slide_type": "subslide"
    }
   },
   "outputs": [
    {
     "name": "stdout",
     "output_type": "stream",
     "text": [
      "<class 'pandas.core.frame.DataFrame'>\n",
      "RangeIndex: 65 entries, 0 to 64\n",
      "Data columns (total 12 columns):\n",
      "R1         65 non-null float64\n",
      "R2         65 non-null float64\n",
      "R3         65 non-null int64\n",
      "R5         65 non-null int64\n",
      "R6         65 non-null int64\n",
      "HW1        65 non-null float64\n",
      "HW2        65 non-null float64\n",
      "HW3        65 non-null float64\n",
      "HW4        65 non-null float64\n",
      "HW5        65 non-null float64\n",
      "HW6        65 non-null float64\n",
      "Midterm    65 non-null float64\n",
      "dtypes: float64(9), int64(3)\n",
      "memory usage: 6.2 KB\n"
     ]
    }
   ],
   "source": [
    "import pandas as pd\n",
    "data = pd.read_csv('grades.csv')\n",
    "#get some info:\n",
    "data.info()"
   ]
  },
  {
   "cell_type": "markdown",
   "metadata": {
    "slideshow": {
     "slide_type": "subslide"
    }
   },
   "source": [
    "I'm going to standardize the homework so that they are all out of 100%. The first row contains perfect scores on each."
   ]
  },
  {
   "cell_type": "code",
   "execution_count": 4,
   "metadata": {
    "slideshow": {
     "slide_type": "subslide"
    }
   },
   "outputs": [
    {
     "data": {
      "text/plain": [
       "R1         91.794872\n",
       "R2         89.807692\n",
       "R3         84.615385\n",
       "R5         93.846154\n",
       "R6         81.538462\n",
       "HW1        82.939560\n",
       "HW2        80.118343\n",
       "HW3        74.230769\n",
       "HW4        83.367730\n",
       "HW5        73.282648\n",
       "HW6        75.182595\n",
       "Midterm    76.130769\n",
       "dtype: float64"
      ]
     },
     "execution_count": 4,
     "metadata": {},
     "output_type": "execute_result"
    }
   ],
   "source": [
    "data /= data.iloc[0,:]\n",
    "data *= 100\n",
    "data.mean(axis=0)"
   ]
  },
  {
   "cell_type": "code",
   "execution_count": 5,
   "metadata": {
    "slideshow": {
     "slide_type": "subslide"
    }
   },
   "outputs": [
    {
     "data": {
      "image/png": "[encoded data removed]",
      "text/plain": [
       "<Figure size 432x288 with 1 Axes>"
      ]
     },
     "metadata": {
      "needs_background": "light"
     },
     "output_type": "display_data"
    }
   ],
   "source": [
    "plt.title('HW1')\n",
    "plt.hist(data.HW1)\n",
    "plt.show()"
   ]
  },
  {
   "cell_type": "code",
   "execution_count": 6,
   "metadata": {
    "slideshow": {
     "slide_type": "subslide"
    }
   },
   "outputs": [
    {
     "data": {
      "image/png": "[encoded data removed]",
      "text/plain": [
       "<Figure size 432x288 with 1 Axes>"
      ]
     },
     "metadata": {
      "needs_background": "light"
     },
     "output_type": "display_data"
    }
   ],
   "source": [
    "plt.title('HW2')\n",
    "plt.hist(data.HW2)\n",
    "plt.show()"
   ]
  },
  {
   "cell_type": "code",
   "execution_count": 7,
   "metadata": {
    "slideshow": {
     "slide_type": "subslide"
    }
   },
   "outputs": [
    {
     "data": {
      "text/plain": [
       "RanksumsResult(statistic=0.39578610596263436, pvalue=0.6922628274842608)"
      ]
     },
     "execution_count": 7,
     "metadata": {},
     "output_type": "execute_result"
    }
   ],
   "source": [
    "ss.ranksums(data['HW1'], data['HW2'])"
   ]
  },
  {
   "cell_type": "markdown",
   "metadata": {
    "slideshow": {
     "slide_type": "fragment"
    }
   },
   "source": [
    "The $p$-value is 0.70, so we cannot rule out the null hypothesis that they are from the same distribution. What about a more recent difficult homework?"
   ]
  },
  {
   "cell_type": "code",
   "execution_count": 8,
   "metadata": {
    "slideshow": {
     "slide_type": "subslide"
    }
   },
   "outputs": [
    {
     "data": {
      "text/plain": [
       "RanksumsResult(statistic=2.567953381628151, pvalue=0.010230091290609646)"
      ]
     },
     "execution_count": 8,
     "metadata": {},
     "output_type": "execute_result"
    }
   ],
   "source": [
    "ss.ranksums(data['HW1'], data['HW5'])"
   ]
  },
  {
   "cell_type": "markdown",
   "metadata": {
    "slideshow": {
     "slide_type": "fragment"
    }
   },
   "source": [
    "So HW 1 and HW 5 were significantly different."
   ]
  },
  {
   "cell_type": "markdown",
   "metadata": {
    "slideshow": {
     "slide_type": "slide"
    }
   },
   "source": [
    "Wilcoxon's Signed Rank Test\n",
    "====\n",
    "\n",
    "**Data Type:** Ranks\n",
    "\n",
    "**Compares:** Two sets of measurements\n",
    "\n",
    "**Null Hypothesis:** The two sets of measurements are from the same distribution\n",
    "\n",
    "**Conditions:** Measurements are matched. Matched means the data comes in tuples/pairs. More than 6 samples, better to have more than 20.\n",
    "\n",
    "**Related Test 1:** Wilcoxon's Sum of Ranks Test for unmatched data measuring one thing (i.e, temperature)\n",
    "\n",
    "**Related Test 2:** Spearman's Correlation Test for matched data measuring two things (i.e., temperature and pressure)\n",
    "\n",
    "**Python:** `scipy.stats.wilcoxon`\n",
    "\n",
    "**Hints:** Make sure all data is in the same units!"
   ]
  },
  {
   "cell_type": "markdown",
   "metadata": {
    "slideshow": {
     "slide_type": "subslide"
    }
   },
   "source": [
    "Since the same people are doing the HW each week, a more accuracte comparison would be to used the Signed Rank Test."
   ]
  },
  {
   "cell_type": "code",
   "execution_count": 9,
   "metadata": {
    "slideshow": {
     "slide_type": "subslide"
    }
   },
   "outputs": [
    {
     "data": {
      "text/plain": [
       "WilcoxonResult(statistic=634.5, pvalue=0.08703592427905478)"
      ]
     },
     "execution_count": 9,
     "metadata": {},
     "output_type": "execute_result"
    }
   ],
   "source": [
    "ss.wilcoxon(data.HW1, data.HW2)"
   ]
  },
  {
   "cell_type": "code",
   "execution_count": 10,
   "metadata": {
    "slideshow": {
     "slide_type": "subslide"
    }
   },
   "outputs": [
    {
     "data": {
      "text/plain": [
       "WilcoxonResult(statistic=434.0, pvalue=0.000398645278025264)"
      ]
     },
     "execution_count": 10,
     "metadata": {},
     "output_type": "execute_result"
    }
   ],
   "source": [
    "ss.wilcoxon(data.HW1, data.HW5)"
   ]
  },
  {
   "cell_type": "markdown",
   "metadata": {
    "slideshow": {
     "slide_type": "fragment"
    }
   },
   "source": [
    "Notice that the p-values are lower relative to the unmatched sum of ranks test, meaning have paired data allows us to be more certain in our conclusions. "
   ]
  },
  {
   "cell_type": "markdown",
   "metadata": {
    "slideshow": {
     "slide_type": "slide"
    }
   },
   "source": [
    "Spearman's Correlation Test\n",
    "====\n",
    "\n",
    "**Data Type:** Ranks\n",
    "\n",
    "**Compares:** Two sets of measurements\n",
    "\n",
    "**Null Hypothesis:** The two sets of measurements are uncorrelated\n",
    "\n",
    "**Conditions:** Measurements are matched. Matched means the data comes in tuples/pairs. The measurements are of different things\n",
    "\n",
    "**Related Test 1:** Wilcoxon's Sum of Ranks Test for unmatched data measuring one thing (i.e, temperature)\n",
    "\n",
    "**Related Test 2:** Wilcoxon's Signed Ranks Test for matched data measuring one thing (i.e, temperature)\n",
    "\n",
    "**Python:** `scipy.stats.spearmanr`"
   ]
  },
  {
   "cell_type": "markdown",
   "metadata": {
    "slideshow": {
     "slide_type": "slide"
    }
   },
   "source": [
    "Example: Is doing well on homework correlated with doing well on the midterm?\n",
    "===="
   ]
  },
  {
   "cell_type": "markdown",
   "metadata": {
    "slideshow": {
     "slide_type": "subslide"
    }
   },
   "source": [
    "First, let's get the average grade on the homeworks. The spreadsheet has 6 homeworks"
   ]
  },
  {
   "cell_type": "code",
   "execution_count": 11,
   "metadata": {
    "slideshow": {
     "slide_type": "fragment"
    }
   },
   "outputs": [],
   "source": [
    "#build a list of all the HW indices\n",
    "index = []\n",
    "for i in range(1,7):\n",
    "    index.append('HW{}'.format(i))\n",
    "\n",
    "#access those homeworks and then take the mean along the columns\n",
    "hw_means = data[index].mean(axis=1)"
   ]
  },
  {
   "cell_type": "code",
   "execution_count": 12,
   "metadata": {
    "slideshow": {
     "slide_type": "subslide"
    }
   },
   "outputs": [
    {
     "data": {
      "image/png": "[encoded data removed]",
      "text/plain": [
       "<Figure size 432x288 with 1 Axes>"
      ]
     },
     "metadata": {
      "needs_background": "light"
     },
     "output_type": "display_data"
    }
   ],
   "source": [
    "plt.plot(hw_means, data.Midterm, 'o')\n",
    "plt.show()"
   ]
  },
  {
   "cell_type": "code",
   "execution_count": 13,
   "metadata": {
    "slideshow": {
     "slide_type": "subslide"
    }
   },
   "outputs": [
    {
     "data": {
      "text/plain": [
       "SpearmanrResult(correlation=0.3466347056828196, pvalue=0.004673660991129944)"
      ]
     },
     "execution_count": 13,
     "metadata": {},
     "output_type": "execute_result"
    }
   ],
   "source": [
    "ss.spearmanr(hw_means, data.Midterm)"
   ]
  },
  {
   "cell_type": "markdown",
   "metadata": {
    "slideshow": {
     "slide_type": "fragment"
    }
   },
   "source": [
    "Remarkable!"
   ]
  },
  {
   "cell_type": "code",
   "execution_count": 14,
   "metadata": {
    "slideshow": {
     "slide_type": "subslide"
    }
   },
   "outputs": [
    {
     "data": {
      "text/plain": [
       "array([[1.        , 0.60007556],\n",
       "       [0.60007556, 1.        ]])"
      ]
     },
     "execution_count": 14,
     "metadata": {},
     "output_type": "execute_result"
    }
   ],
   "source": [
    "np.corrcoef(hw_means, data.Midterm)"
   ]
  },
  {
   "cell_type": "markdown",
   "metadata": {
    "slideshow": {
     "slide_type": "slide"
    }
   },
   "source": [
    "Tests For Counts (Parametric)\n",
    "===="
   ]
  },
  {
   "cell_type": "markdown",
   "metadata": {
    "slideshow": {
     "slide_type": "subslide"
    }
   },
   "source": [
    "Poisson's Count Test\n",
    "====\n",
    "\n",
    "**Data Type:** Count\n",
    "\n",
    "**Compares:** Count vs a poisson distributed population\n",
    "\n",
    "**Null Hypothesis:** The number of observations (count) came from the known population\n",
    "\n",
    "**Conditions:** Less than 40 samples (for computational simplicity)\n",
    "\n",
    "**Related Test 1:** $zI$ test, for more than 40 samples\n",
    "\n",
    "**Python:** Construct an interval and integrate using `scipy.stats.poisson.cdf(x, mu=...)`\n",
    "\n",
    "**Hints**: Your interval should contain your value and all other extreme values. The interval should go up to infinity or down to 0 depending on if it's higher or lower than the expected value."
   ]
  },
  {
   "cell_type": "markdown",
   "metadata": {
    "slideshow": {
     "slide_type": "slide"
    }
   },
   "source": [
    "Example: Hurricanes per Year\n",
    "====\n",
    "\n",
    "The number of hurricanes in 2005 was 15. The historic average is 6.3. Is this number signficantly different?"
   ]
  },
  {
   "cell_type": "markdown",
   "metadata": {
    "slideshow": {
     "slide_type": "fragment"
    }
   },
   "source": [
    "We will construct an interval containing all values as extreme as ours. We don't consider a low number of hurricanes to be extreme in this example. *Remember that we want to include the value into this interval.*"
   ]
  },
  {
   "cell_type": "markdown",
   "metadata": {
    "slideshow": {
     "slide_type": "subslide"
    }
   },
   "source": [
    "First consider only saying that lots of hurricanes is out of the ordininary (not part of the null hypothesis).\n",
    "\n",
    "$$\n",
    "P = P(x \\geq 15) = 1 - \\sum_0^{14} P(x)\n",
    "$$"
   ]
  },
  {
   "cell_type": "code",
   "execution_count": 15,
   "metadata": {
    "slideshow": {
     "slide_type": "fragment"
    }
   },
   "outputs": [
    {
     "name": "stdout",
     "output_type": "stream",
     "text": [
      "p-value is 0.002217122790073134\n"
     ]
    }
   ],
   "source": [
    "print('p-value is', (1 - ss.poisson.cdf(14, mu=6.3)))"
   ]
  },
  {
   "cell_type": "markdown",
   "metadata": {
    "slideshow": {
     "slide_type": "subslide"
    }
   },
   "source": [
    "So we reject the null hypothesis. This is a highly unusual number of hurricanes."
   ]
  }
 ],
 "metadata": {
  "celltoolbar": "Slideshow",
  "kernelspec": {
   "display_name": "Python 3",
   "language": "python",
   "name": "python3"
  },
  "language_info": {
   "codemirror_mode": {
    "name": "ipython",
    "version": 3
   },
   "file_extension": ".py",
   "mimetype": "text/x-python",
   "name": "python",
   "nbconvert_exporter": "python",
   "pygments_lexer": "ipython3",
   "version": "3.7.3"
  }
 },
 "nbformat": 4,
 "nbformat_minor": 1
}
