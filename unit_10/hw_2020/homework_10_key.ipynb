{
 "cells": [
  {
   "cell_type": "markdown",
   "metadata": {},
   "source": [
    "# Homework 10 Key\n",
    "#### CHE 116: Numerical Methods and Statistics\n",
    "\n",
    "\n",
    "4/9/2020\n",
    "\n",
    "----"
   ]
  },
  {
   "cell_type": "markdown",
   "metadata": {},
   "source": [
    "## Problem 1\n",
    "\n",
    "State which hypothesis best matches the scenario and justify your answer\n",
    "\n",
    "1. You have the historic mean and standard deviation of temperature for April and want to know if this year's temperature is significantly different.\n",
    "2. The number of days with snow in April is usually 4, this year it is 1. Is this significant?\n",
    "3. You take 5 measurements of snow depth in your front yard and 8 measurements in your backyard and want to know if they front and backyard have different amounts of snowfall.\n",
    "4. You have measured what day of the week it is and what time your phone battery goes dead. Is there a connection?\n",
    "5. You have measured how frequently your friends text you before and after COVID-19 quarantine and want to know if it has changed significantly."
   ]
  },
  {
   "cell_type": "markdown",
   "metadata": {},
   "source": [
    "### Problem 1 Answers\n",
    "1. zM\n",
    "2. Poisson\n",
    "3. Wilcoxon sum of ranks\n",
    "4. Spearmann Correlation\n",
    "5. Wilxocon signed rank"
   ]
  },
  {
   "cell_type": "markdown",
   "metadata": {},
   "source": [
    "# Problem 2\n",
    "\n",
    "Choose and peform hypothesis tests for the following examples. **Report your p-values!!**\n",
    "\n",
    "1. The number of yellow skittles is on average 8 per bag. Your bag has 11. Is this significantly different?\n",
    "2. You normally drink 8 oz of water with a standard deviation of 2 oz. Today you drank 12 oz. Is this significantly different?\n",
    "3. Ting says your cellphone bill will be about \\\\$50 or lower if you switch. You switch and find your bills a are \\\\$48, \\\\$ 53, \\\\$67, \\\\$44. Was their claim correct?\n",
    "\n",
    "4. You are testing the efficacy of a drug that causes weight loss. You have 15 patients try the drug. Their weights in pounds before are [178,189,136,134,172,171,178,179,154,159,167,149,125,180,135] and after are [174,178,139,133,166,165,172,180,141,145,176,151,108,174,131]. Is the drug effective?\n",
    "\n",
    "\n",
    "5. You now add a control group which is given a placebo. Their before and after weights are [211,175,151,160,163,137,169,145,171,177,148,145,173,174,167] and [200,171,146,162,178,134,183,148,164,166,141,142,166,167,142]. Is your conclusion the same? Why or why not?"
   ]
  },
  {
   "cell_type": "markdown",
   "metadata": {},
   "source": [
    "### 2.1\n",
    "\n",
    "$p = 0.18$\n",
    "\n",
    "Not significantly different"
   ]
  },
  {
   "cell_type": "code",
   "execution_count": 21,
   "metadata": {},
   "outputs": [
    {
     "data": {
      "text/plain": [
       "0.18411420744145335"
      ]
     },
     "execution_count": 21,
     "metadata": {},
     "output_type": "execute_result"
    }
   ],
   "source": [
    "import scipy.stats as ss\n",
    "#Poisson\n",
    "1 - ss.poisson.cdf(10, 8)"
   ]
  },
  {
   "cell_type": "markdown",
   "metadata": {},
   "source": [
    "### 2.2\n",
    "$p = 0.045$\n",
    "\n",
    "This is a significantly different amount of water"
   ]
  },
  {
   "cell_type": "code",
   "execution_count": 25,
   "metadata": {},
   "outputs": [
    {
     "data": {
      "text/plain": [
       "0.04550026389635839"
      ]
     },
     "execution_count": 25,
     "metadata": {},
     "output_type": "execute_result"
    }
   ],
   "source": [
    "Z = (12 - 8) / 2\n",
    "2 * ss.norm.cdf(-Z)"
   ]
  },
  {
   "cell_type": "markdown",
   "metadata": {},
   "source": [
    "### 2.3\n",
    "$p = 0.7$\n",
    "\n",
    "The bills are not significantly different from what Ting claimed"
   ]
  },
  {
   "cell_type": "code",
   "execution_count": 32,
   "metadata": {},
   "outputs": [
    {
     "name": "stdout",
     "output_type": "stream",
     "text": [
      "0.42348057022481395\n"
     ]
    },
    {
     "data": {
      "text/plain": [
       "0.7004718483539545"
      ]
     },
     "execution_count": 32,
     "metadata": {},
     "output_type": "execute_result"
    }
   ],
   "source": [
    "bills = [45, 53, 67, 44]\n",
    "bm = np.mean(bills)\n",
    "bs = np.std(bills, ddof=1)\n",
    "T = (bm - 50) / (bs / np.sqrt(len(bills)))\n",
    "2 * ss.t.cdf(-T, df=len(bills) - 1)"
   ]
  },
  {
   "cell_type": "markdown",
   "metadata": {},
   "source": [
    "### 2.4\n",
    "\n",
    "$p = 0.02$\n",
    "\n",
    "The drug is effective"
   ]
  },
  {
   "cell_type": "code",
   "execution_count": 38,
   "metadata": {},
   "outputs": [
    {
     "data": {
      "text/plain": [
       "WilcoxonResult(statistic=19.5, pvalue=0.02112008758907893)"
      ]
     },
     "execution_count": 38,
     "metadata": {},
     "output_type": "execute_result"
    }
   ],
   "source": [
    "before = [178,189,136,134,172,171,178,179,154,159,167,149,125,180,135] \n",
    "after = [174,178,139,133,166,165,172,180,141,145,176,151,108,174,131]\n",
    "ss.wilcoxon(before, after)"
   ]
  },
  {
   "cell_type": "markdown",
   "metadata": {},
   "source": [
    "### 2.5\n",
    "\n",
    "There is not a significant different in weight loss between the placebo or drug group, so the drug is no more effective than a placebo. "
   ]
  },
  {
   "cell_type": "code",
   "execution_count": 44,
   "metadata": {},
   "outputs": [
    {
     "data": {
      "text/plain": [
       "RanksumsResult(statistic=0.14517323726225953, pvalue=0.8845740956336082)"
      ]
     },
     "execution_count": 44,
     "metadata": {},
     "output_type": "execute_result"
    }
   ],
   "source": [
    "beforec = [211,175,151,160,163,137,169,145,171,177,148,145,173,174,167]\n",
    "afterc = [200,171,146,162,178,134,183,148,164,166,141,142,166,167,142]\n",
    "\n",
    "changec = [b - a for b,a in zip(beforec,afterc)]\n",
    "change = [b - a for b,a in zip(before, after)]\n",
    "\n",
    "ss.ranksums(change, changec)"
   ]
  },
  {
   "cell_type": "markdown",
   "metadata": {},
   "source": [
    "## Problem 3\n",
    "\n",
    "Solve the following problems using optimization. **Report your answer in Markdown!**\n",
    "\n",
    "1. Solve $\\tan x = x^2 +  1$. \n",
    "2. Minimize $(x - 4)^2$\n",
    "3. Is $x^2\\sin^2x$ non-convex or convex?\n",
    "4. Solve the following system of equations:\n",
    "\n",
    "$$\n",
    "x^2 - y = 18\n",
    "$$\n",
    "$$\n",
    "\\sqrt{x} + y^2 = 6\n",
    "$$"
   ]
  },
  {
   "cell_type": "markdown",
   "metadata": {},
   "source": [
    "### 3.1\n",
    "\n",
    "$x = 1.17$"
   ]
  },
  {
   "cell_type": "code",
   "execution_count": 48,
   "metadata": {},
   "outputs": [
    {
     "data": {
      "text/plain": [
       "    fjac: array([[-1.]])\n",
       "     fun: array([-2.07389661e-13])\n",
       " message: 'The solution converged.'\n",
       "    nfev: 11\n",
       "     qtf: array([-1.50393884e-08])\n",
       "       r: array([-4.29069632])\n",
       "  status: 1\n",
       " success: True\n",
       "       x: array([1.17209362])"
      ]
     },
     "execution_count": 48,
     "metadata": {},
     "output_type": "execute_result"
    }
   ],
   "source": [
    "import scipy.optimize as opt\n",
    "\n",
    "opt.root(lambda x: np.tan(x) - x**2 - 1, x0=1)"
   ]
  },
  {
   "cell_type": "markdown",
   "metadata": {},
   "source": [
    "### 3.2\n",
    "\n",
    "$x = 4$"
   ]
  },
  {
   "cell_type": "code",
   "execution_count": 49,
   "metadata": {},
   "outputs": [
    {
     "data": {
      "text/plain": [
       "      fun: 1.6517868451916196e-16\n",
       " hess_inv: array([[0.5]])\n",
       "      jac: array([-1.08032108e-08])\n",
       "  message: 'Optimization terminated successfully.'\n",
       "     nfev: 12\n",
       "      nit: 3\n",
       "     njev: 4\n",
       "   status: 0\n",
       "  success: True\n",
       "        x: array([3.99999999])"
      ]
     },
     "execution_count": 49,
     "metadata": {},
     "output_type": "execute_result"
    }
   ],
   "source": [
    "opt.minimize(lambda x: (x - 4)**2, x0=0)"
   ]
  },
  {
   "cell_type": "markdown",
   "metadata": {},
   "source": [
    "### 3.3\n",
    "This is non-convex"
   ]
  },
  {
   "cell_type": "code",
   "execution_count": 53,
   "metadata": {},
   "outputs": [
    {
     "data": {
      "text/plain": [
       "[<matplotlib.lines.Line2D at 0x7fd4061b50b8>]"
      ]
     },
     "execution_count": 53,
     "metadata": {},
     "output_type": "execute_result"
    },
    {
     "data": {
      "image/png": "[encoded data removed]",
      "text/plain": [
       "<Figure size 432x288 with 1 Axes>"
      ]
     },
     "metadata": {
      "needs_background": "light"
     },
     "output_type": "display_data"
    }
   ],
   "source": [
    "import matplotlib.pyplot as plt\n",
    "%matplotlib inline\n",
    "x = np.linspace(-4, 4, 500)\n",
    "plt.plot(x, x**2 * np.sin(x)**2)"
   ]
  },
  {
   "cell_type": "markdown",
   "metadata": {},
   "source": [
    "### 3.4\n",
    "Two solutions (ok to report just 1)\n",
    "$x,y = 4.47, 1.97$; $x,y = 4, -2$"
   ]
  },
  {
   "cell_type": "code",
   "execution_count": 56,
   "metadata": {},
   "outputs": [
    {
     "data": {
      "text/plain": [
       "    fjac: array([[-0.99930056, -0.0373951 ],\n",
       "       [ 0.0373951 , -0.99930056]])\n",
       "     fun: array([-3.19744231e-14, -3.10862447e-14])\n",
       " message: 'The solution converged.'\n",
       "    nfev: 13\n",
       "     qtf: array([-8.24822349e-10, -7.51151959e-10])\n",
       "       r: array([-8.05791962,  1.12720016,  3.94005999])\n",
       "  status: 1\n",
       " success: True\n",
       "       x: array([ 4., -2.])"
      ]
     },
     "execution_count": 56,
     "metadata": {},
     "output_type": "execute_result"
    }
   ],
   "source": [
    "def sys(v):\n",
    "    x = v[0]\n",
    "    y = v[1]\n",
    "    return [x**2 - y - 18, np.sqrt(x) + y**2 - 6]\n",
    "opt.root(sys, x0 = [1,-1])"
   ]
  }
 ],
 "metadata": {
  "kernelspec": {
   "display_name": "Python 3",
   "language": "python",
   "name": "python3"
  },
  "language_info": {
   "codemirror_mode": {
    "name": "ipython",
    "version": 3
   },
   "file_extension": ".py",
   "mimetype": "text/x-python",
   "name": "python",
   "nbconvert_exporter": "python",
   "pygments_lexer": "ipython3",
   "version": "3.7.3"
  }
 },
 "nbformat": 4,
 "nbformat_minor": 2
}
