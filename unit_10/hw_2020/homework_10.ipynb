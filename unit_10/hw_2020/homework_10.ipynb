{
 "cells": [
  {
   "cell_type": "markdown",
   "metadata": {},
   "source": [
    "# Homework 10\n",
    "#### CHE 116: Numerical Methods and Statistics\n",
    "\n",
    "\n",
    "4/9/2020\n",
    "\n",
    "----"
   ]
  },
  {
   "cell_type": "markdown",
   "metadata": {},
   "source": [
    "## Problem 1 (10 Points)\n",
    "\n",
    "State which hypothesis test best matches the scenario and justify your answer. 2 points each.\n",
    "\n",
    "1. You have the historic mean and standard deviation of temperature for April and want to know if this year's temperature is significantly different.\n",
    "2. The number of days with snow in April is usually 4, this year it is 1. Is this significant?\n",
    "3. You take 5 measurements of snow depth in your front yard and 8 measurements in your backyard and want to know if they front and backyard have different amounts of snowfall.\n",
    "4. You have measured what day of the week it is and what time your phone battery goes dead. Is there a connection?\n",
    "5. You have measured how frequently your friends text you before and after COVID-19 quarantine and want to know if it has changed significantly."
   ]
  },
  {
   "cell_type": "markdown",
   "metadata": {},
   "source": [
    "# Problem 2 (24 Points)\n",
    "\n",
    "Choose and peform hypothesis tests for the following examples. **Report your p-values!!**.\n",
    "\n",
    "1. [4 points] The number of yellow skittles is on average 8 per bag. Your bag has 11. Is this significantly different?\n",
    "2. [4 points] You normally drink 8 oz of water with a standard deviation of 2 oz. Today you drank 12 oz. Is this significantly different?\n",
    "3. [6 points] Ting says your cellphone bill will be about \\\\$50 or lower if you switch. You switch and find your bills a are \\\\$48, \\\\$ 53, \\\\$67, \\\\$44. Was their claim correct?\n",
    "\n",
    "4. [4 points] You are testing the efficacy of a drug that causes weight loss. You have 15 patients try the drug. Their weights in pounds before are [178,189,136,134,172,171,178,179,154,159,167,149,125,180,135] and after are [174,178,139,133,166,165,172,180,141,145,176,151,108,174,131]. Is the drug effective?\n",
    "\n",
    "\n",
    "5. [6 points] You now add a control group which is given a placebo. Their before and after weights are [211,175,151,160,163,137,169,145,171,177,148,145,173,174,167] and [200,171,146,162,178,134,183,148,164,166,141,142,166,167,142]. Is your conclusion the same? Why or why not?"
   ]
  },
  {
   "cell_type": "markdown",
   "metadata": {},
   "source": [
    "## Problem 3 (16 Points)\n",
    "\n",
    "Solve the following problems using optimization. **Report your answer in Markdown!**. 4 Points each\n",
    "\n",
    "1. Solve $\\tan x = x^2 +  1$. \n",
    "2. Minimize $(x - 4)^2$\n",
    "3. Is $x^2\\sin^2x$ non-convex or convex?\n",
    "4. Solve the following system of equations:\n",
    "\n",
    "$$\n",
    "x^2 - y = 18\n",
    "$$\n",
    "$$\n",
    "\\sqrt{x} + y^2 = 6\n",
    "$$"
   ]
  }
 ],
 "metadata": {
  "kernelspec": {
   "display_name": "Python 3",
   "language": "python",
   "name": "python3"
  },
  "language_info": {
   "codemirror_mode": {
    "name": "ipython",
    "version": 3
   },
   "file_extension": ".py",
   "mimetype": "text/x-python",
   "name": "python",
   "nbconvert_exporter": "python",
   "pygments_lexer": "ipython3",
   "version": "3.7.3"
  }
 },
 "nbformat": 4,
 "nbformat_minor": 2
}
